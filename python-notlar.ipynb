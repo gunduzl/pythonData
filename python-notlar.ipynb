{
 "cells": [
  {
   "cell_type": "code",
   "execution_count": 1,
   "id": "9b023ef3",
   "metadata": {
    "_cell_guid": "b1076dfc-b9ad-4769-8c92-a6c4dae69d19",
    "_uuid": "8f2839f25d086af736a60e9eeb907d3b93b6e0e5",
    "execution": {
     "iopub.execute_input": "2025-05-24T12:46:20.005498Z",
     "iopub.status.busy": "2025-05-24T12:46:20.005116Z",
     "iopub.status.idle": "2025-05-24T12:46:20.015793Z",
     "shell.execute_reply": "2025-05-24T12:46:20.014473Z"
    },
    "papermill": {
     "duration": 0.03129,
     "end_time": "2025-05-24T12:46:20.017540",
     "exception": false,
     "start_time": "2025-05-24T12:46:19.986250",
     "status": "completed"
    },
    "tags": []
   },
   "outputs": [],
   "source": [
    "personel_yas = 18\n",
    "persoenel_maas = 1000\n",
    "personel_isim = 'Beyza'"
   ]
  },
  {
   "cell_type": "code",
   "execution_count": 2,
   "id": "aaac7521",
   "metadata": {
    "execution": {
     "iopub.execute_input": "2025-05-24T12:46:20.050314Z",
     "iopub.status.busy": "2025-05-24T12:46:20.049187Z",
     "iopub.status.idle": "2025-05-24T12:46:20.056483Z",
     "shell.execute_reply": "2025-05-24T12:46:20.055623Z"
    },
    "papermill": {
     "duration": 0.025095,
     "end_time": "2025-05-24T12:46:20.058011",
     "exception": false,
     "start_time": "2025-05-24T12:46:20.032916",
     "status": "completed"
    },
    "tags": []
   },
   "outputs": [
    {
     "data": {
      "text/plain": [
       "'Beyza'"
      ]
     },
     "execution_count": 2,
     "metadata": {},
     "output_type": "execute_result"
    }
   ],
   "source": [
    "personel_isim"
   ]
  },
  {
   "cell_type": "markdown",
   "id": "753618e9",
   "metadata": {
    "papermill": {
     "duration": 0.013963,
     "end_time": "2025-05-24T12:46:20.086526",
     "exception": false,
     "start_time": "2025-05-24T12:46:20.072563",
     "status": "completed"
    },
    "tags": []
   },
   "source": [
    "**Değişken oluşturma kuralları**\n",
    "\n",
    "1. Değişken adları ingilizce karakterle oluşturulmalıdır.\n",
    "2. Değişken adı _ yada bir harf ile başlamalı. Sayı ile başlayamaz.\n",
    "3. Özel karakterlerden sadece _ kullanılabilir.\n",
    "4. Python dilindeki özel fonksiyon adları ve kalıplar değişken adı olarak kullanılmaz. (print, if, elif, else)"
   ]
  },
  {
   "cell_type": "code",
   "execution_count": 3,
   "id": "d2dbc0ad",
   "metadata": {
    "execution": {
     "iopub.execute_input": "2025-05-24T12:46:20.116425Z",
     "iopub.status.busy": "2025-05-24T12:46:20.116073Z",
     "iopub.status.idle": "2025-05-24T12:46:20.120846Z",
     "shell.execute_reply": "2025-05-24T12:46:20.119646Z"
    },
    "papermill": {
     "duration": 0.021689,
     "end_time": "2025-05-24T12:46:20.122526",
     "exception": false,
     "start_time": "2025-05-24T12:46:20.100837",
     "status": "completed"
    },
    "tags": []
   },
   "outputs": [],
   "source": [
    "#bu bir yorum satırıdır."
   ]
  },
  {
   "cell_type": "code",
   "execution_count": 4,
   "id": "1333a17c",
   "metadata": {
    "execution": {
     "iopub.execute_input": "2025-05-24T12:46:20.153160Z",
     "iopub.status.busy": "2025-05-24T12:46:20.152771Z",
     "iopub.status.idle": "2025-05-24T12:46:20.158461Z",
     "shell.execute_reply": "2025-05-24T12:46:20.157329Z"
    },
    "papermill": {
     "duration": 0.023024,
     "end_time": "2025-05-24T12:46:20.160201",
     "exception": false,
     "start_time": "2025-05-24T12:46:20.137177",
     "status": "completed"
    },
    "tags": []
   },
   "outputs": [],
   "source": [
    "yas = 10\n",
    "isim = \"Şükrü Yusuf KAYA\"\n",
    "karakter1 = 'a'\n",
    "karakter2 = '10'\n",
    "karakter3 = '#'\n",
    "bakiye = 1000.25"
   ]
  },
  {
   "cell_type": "code",
   "execution_count": 5,
   "id": "80e4660f",
   "metadata": {
    "execution": {
     "iopub.execute_input": "2025-05-24T12:46:20.190628Z",
     "iopub.status.busy": "2025-05-24T12:46:20.190270Z",
     "iopub.status.idle": "2025-05-24T12:46:20.196067Z",
     "shell.execute_reply": "2025-05-24T12:46:20.195030Z"
    },
    "papermill": {
     "duration": 0.022725,
     "end_time": "2025-05-24T12:46:20.197683",
     "exception": false,
     "start_time": "2025-05-24T12:46:20.174958",
     "status": "completed"
    },
    "tags": []
   },
   "outputs": [
    {
     "name": "stdout",
     "output_type": "stream",
     "text": [
      "10\n"
     ]
    }
   ],
   "source": [
    "print(yas)"
   ]
  },
  {
   "cell_type": "code",
   "execution_count": 6,
   "id": "29db4e73",
   "metadata": {
    "execution": {
     "iopub.execute_input": "2025-05-24T12:46:20.228452Z",
     "iopub.status.busy": "2025-05-24T12:46:20.228124Z",
     "iopub.status.idle": "2025-05-24T12:46:20.233288Z",
     "shell.execute_reply": "2025-05-24T12:46:20.232252Z"
    },
    "papermill": {
     "duration": 0.023002,
     "end_time": "2025-05-24T12:46:20.234988",
     "exception": false,
     "start_time": "2025-05-24T12:46:20.211986",
     "status": "completed"
    },
    "tags": []
   },
   "outputs": [
    {
     "name": "stdout",
     "output_type": "stream",
     "text": [
      "yas\n"
     ]
    }
   ],
   "source": [
    "print(\"yas\")"
   ]
  },
  {
   "cell_type": "code",
   "execution_count": 7,
   "id": "5e3e37da",
   "metadata": {
    "execution": {
     "iopub.execute_input": "2025-05-24T12:46:20.266038Z",
     "iopub.status.busy": "2025-05-24T12:46:20.264699Z",
     "iopub.status.idle": "2025-05-24T12:46:20.269891Z",
     "shell.execute_reply": "2025-05-24T12:46:20.268698Z"
    },
    "papermill": {
     "duration": 0.021986,
     "end_time": "2025-05-24T12:46:20.271383",
     "exception": false,
     "start_time": "2025-05-24T12:46:20.249397",
     "status": "completed"
    },
    "tags": []
   },
   "outputs": [],
   "source": [
    "yas = 11"
   ]
  },
  {
   "cell_type": "code",
   "execution_count": 8,
   "id": "468d6b76",
   "metadata": {
    "execution": {
     "iopub.execute_input": "2025-05-24T12:46:20.403584Z",
     "iopub.status.busy": "2025-05-24T12:46:20.403215Z",
     "iopub.status.idle": "2025-05-24T12:46:20.408496Z",
     "shell.execute_reply": "2025-05-24T12:46:20.407318Z"
    },
    "papermill": {
     "duration": 0.023085,
     "end_time": "2025-05-24T12:46:20.410135",
     "exception": false,
     "start_time": "2025-05-24T12:46:20.387050",
     "status": "completed"
    },
    "tags": []
   },
   "outputs": [
    {
     "name": "stdout",
     "output_type": "stream",
     "text": [
      "11\n"
     ]
    }
   ],
   "source": [
    "print(yas)"
   ]
  },
  {
   "cell_type": "code",
   "execution_count": 9,
   "id": "4044af77",
   "metadata": {
    "execution": {
     "iopub.execute_input": "2025-05-24T12:46:20.440621Z",
     "iopub.status.busy": "2025-05-24T12:46:20.440266Z",
     "iopub.status.idle": "2025-05-24T12:46:20.445980Z",
     "shell.execute_reply": "2025-05-24T12:46:20.444882Z"
    },
    "papermill": {
     "duration": 0.022891,
     "end_time": "2025-05-24T12:46:20.447547",
     "exception": false,
     "start_time": "2025-05-24T12:46:20.424656",
     "status": "completed"
    },
    "tags": []
   },
   "outputs": [
    {
     "name": "stdout",
     "output_type": "stream",
     "text": [
      "10\n"
     ]
    }
   ],
   "source": [
    "sayi1 = 7\n",
    "sayi2 = 3\n",
    "toplam = sayi1 + sayi2 \n",
    "print(toplam)"
   ]
  },
  {
   "cell_type": "code",
   "execution_count": 10,
   "id": "d1a0cd77",
   "metadata": {
    "execution": {
     "iopub.execute_input": "2025-05-24T12:46:20.478248Z",
     "iopub.status.busy": "2025-05-24T12:46:20.477686Z",
     "iopub.status.idle": "2025-05-24T12:46:20.483376Z",
     "shell.execute_reply": "2025-05-24T12:46:20.482610Z"
    },
    "papermill": {
     "duration": 0.022727,
     "end_time": "2025-05-24T12:46:20.484947",
     "exception": false,
     "start_time": "2025-05-24T12:46:20.462220",
     "status": "completed"
    },
    "tags": []
   },
   "outputs": [],
   "source": [
    "toplam = sayi1 + sayi2\n",
    "cikarma = sayi1 - sayi2\n",
    "carpma = sayi1 * sayi2\n",
    "bolme = sayi1 / sayi2\n",
    "tamsayi_bolme = sayi1 // sayi2\n",
    "mod_alma = sayi1 % sayi2\n",
    "us_alma = sayi1 ** sayi2\n",
    "kok_alma = sayi1 ** (1/sayi2)"
   ]
  },
  {
   "cell_type": "code",
   "execution_count": 11,
   "id": "e6bf85fd",
   "metadata": {
    "execution": {
     "iopub.execute_input": "2025-05-24T12:46:20.515928Z",
     "iopub.status.busy": "2025-05-24T12:46:20.515535Z",
     "iopub.status.idle": "2025-05-24T12:46:20.521675Z",
     "shell.execute_reply": "2025-05-24T12:46:20.520774Z"
    },
    "papermill": {
     "duration": 0.023278,
     "end_time": "2025-05-24T12:46:20.523184",
     "exception": false,
     "start_time": "2025-05-24T12:46:20.499906",
     "status": "completed"
    },
    "tags": []
   },
   "outputs": [
    {
     "data": {
      "text/plain": [
       "2.3333333333333335"
      ]
     },
     "execution_count": 11,
     "metadata": {},
     "output_type": "execute_result"
    }
   ],
   "source": [
    "bolme"
   ]
  },
  {
   "cell_type": "code",
   "execution_count": 12,
   "id": "741ad1e2",
   "metadata": {
    "execution": {
     "iopub.execute_input": "2025-05-24T12:46:20.555469Z",
     "iopub.status.busy": "2025-05-24T12:46:20.554543Z",
     "iopub.status.idle": "2025-05-24T12:46:20.560902Z",
     "shell.execute_reply": "2025-05-24T12:46:20.559936Z"
    },
    "papermill": {
     "duration": 0.024169,
     "end_time": "2025-05-24T12:46:20.562283",
     "exception": false,
     "start_time": "2025-05-24T12:46:20.538114",
     "status": "completed"
    },
    "tags": []
   },
   "outputs": [
    {
     "data": {
      "text/plain": [
       "2"
      ]
     },
     "execution_count": 12,
     "metadata": {},
     "output_type": "execute_result"
    }
   ],
   "source": [
    "tamsayi_bolme"
   ]
  },
  {
   "cell_type": "code",
   "execution_count": 13,
   "id": "07126aec",
   "metadata": {
    "execution": {
     "iopub.execute_input": "2025-05-24T12:46:20.593965Z",
     "iopub.status.busy": "2025-05-24T12:46:20.592924Z",
     "iopub.status.idle": "2025-05-24T12:46:20.599764Z",
     "shell.execute_reply": "2025-05-24T12:46:20.598806Z"
    },
    "papermill": {
     "duration": 0.024009,
     "end_time": "2025-05-24T12:46:20.601290",
     "exception": false,
     "start_time": "2025-05-24T12:46:20.577281",
     "status": "completed"
    },
    "tags": []
   },
   "outputs": [
    {
     "data": {
      "text/plain": [
       "1"
      ]
     },
     "execution_count": 13,
     "metadata": {},
     "output_type": "execute_result"
    }
   ],
   "source": [
    "mod_alma"
   ]
  },
  {
   "cell_type": "code",
   "execution_count": 14,
   "id": "3966d1ca",
   "metadata": {
    "execution": {
     "iopub.execute_input": "2025-05-24T12:46:20.632700Z",
     "iopub.status.busy": "2025-05-24T12:46:20.632338Z",
     "iopub.status.idle": "2025-05-24T12:46:20.638193Z",
     "shell.execute_reply": "2025-05-24T12:46:20.637304Z"
    },
    "papermill": {
     "duration": 0.023676,
     "end_time": "2025-05-24T12:46:20.639987",
     "exception": false,
     "start_time": "2025-05-24T12:46:20.616311",
     "status": "completed"
    },
    "tags": []
   },
   "outputs": [
    {
     "data": {
      "text/plain": [
       "343"
      ]
     },
     "execution_count": 14,
     "metadata": {},
     "output_type": "execute_result"
    }
   ],
   "source": [
    "us_alma"
   ]
  },
  {
   "cell_type": "code",
   "execution_count": 15,
   "id": "7c936ed2",
   "metadata": {
    "execution": {
     "iopub.execute_input": "2025-05-24T12:46:20.671235Z",
     "iopub.status.busy": "2025-05-24T12:46:20.670906Z",
     "iopub.status.idle": "2025-05-24T12:46:20.675929Z",
     "shell.execute_reply": "2025-05-24T12:46:20.674998Z"
    },
    "papermill": {
     "duration": 0.022442,
     "end_time": "2025-05-24T12:46:20.677524",
     "exception": false,
     "start_time": "2025-05-24T12:46:20.655082",
     "status": "completed"
    },
    "tags": []
   },
   "outputs": [],
   "source": [
    "sayi1, sayi2, sayi3 = 10,11,12\n",
    "toplam = sayi1 + sayi2 + sayi3\n",
    "carpim = sayi1 * sayi2 * sayi3\n",
    "ortalama = toplam / 3"
   ]
  },
  {
   "cell_type": "code",
   "execution_count": 16,
   "id": "d567199c",
   "metadata": {
    "execution": {
     "iopub.execute_input": "2025-05-24T12:46:20.709122Z",
     "iopub.status.busy": "2025-05-24T12:46:20.708743Z",
     "iopub.status.idle": "2025-05-24T12:46:20.713599Z",
     "shell.execute_reply": "2025-05-24T12:46:20.712750Z"
    },
    "papermill": {
     "duration": 0.022373,
     "end_time": "2025-05-24T12:46:20.715161",
     "exception": false,
     "start_time": "2025-05-24T12:46:20.692788",
     "status": "completed"
    },
    "tags": []
   },
   "outputs": [
    {
     "name": "stdout",
     "output_type": "stream",
     "text": [
      "Girmis oldugunuz sayilarin toplami : 33 carpimi : 1320 ortalamasi : 11.0\n"
     ]
    }
   ],
   "source": [
    "print(\"Girmis oldugunuz sayilarin toplami :\",toplam,\"carpimi :\",carpim, \"ortalamasi :\",ortalama)"
   ]
  },
  {
   "cell_type": "code",
   "execution_count": 17,
   "id": "975af463",
   "metadata": {
    "execution": {
     "iopub.execute_input": "2025-05-24T12:46:20.747492Z",
     "iopub.status.busy": "2025-05-24T12:46:20.746546Z",
     "iopub.status.idle": "2025-05-24T12:46:20.753163Z",
     "shell.execute_reply": "2025-05-24T12:46:20.752213Z"
    },
    "papermill": {
     "duration": 0.024547,
     "end_time": "2025-05-24T12:46:20.754665",
     "exception": false,
     "start_time": "2025-05-24T12:46:20.730118",
     "status": "completed"
    },
    "tags": []
   },
   "outputs": [
    {
     "data": {
      "text/plain": [
       "'isim = input(\"Lutfen isminizi giriniz : \")'"
      ]
     },
     "execution_count": 17,
     "metadata": {},
     "output_type": "execute_result"
    }
   ],
   "source": [
    "\"\"\"isim = input(\"Lutfen isminizi giriniz : \")\"\"\""
   ]
  },
  {
   "cell_type": "code",
   "execution_count": 18,
   "id": "2d8f1fc2",
   "metadata": {
    "execution": {
     "iopub.execute_input": "2025-05-24T12:46:20.786754Z",
     "iopub.status.busy": "2025-05-24T12:46:20.786374Z",
     "iopub.status.idle": "2025-05-24T12:46:20.792779Z",
     "shell.execute_reply": "2025-05-24T12:46:20.791625Z"
    },
    "papermill": {
     "duration": 0.024584,
     "end_time": "2025-05-24T12:46:20.794480",
     "exception": false,
     "start_time": "2025-05-24T12:46:20.769896",
     "status": "completed"
    },
    "tags": []
   },
   "outputs": [
    {
     "data": {
      "text/plain": [
       "'print(\"Merhaba,\",isim,\"hosgeldiniz.\")'"
      ]
     },
     "execution_count": 18,
     "metadata": {},
     "output_type": "execute_result"
    }
   ],
   "source": [
    "\"\"\"print(\"Merhaba,\",isim,\"hosgeldiniz.\")\"\"\""
   ]
  },
  {
   "cell_type": "code",
   "execution_count": 19,
   "id": "484611a7",
   "metadata": {
    "execution": {
     "iopub.execute_input": "2025-05-24T12:46:20.826338Z",
     "iopub.status.busy": "2025-05-24T12:46:20.825962Z",
     "iopub.status.idle": "2025-05-24T12:46:20.832119Z",
     "shell.execute_reply": "2025-05-24T12:46:20.831199Z"
    },
    "papermill": {
     "duration": 0.023836,
     "end_time": "2025-05-24T12:46:20.833604",
     "exception": false,
     "start_time": "2025-05-24T12:46:20.809768",
     "status": "completed"
    },
    "tags": []
   },
   "outputs": [
    {
     "data": {
      "text/plain": [
       "'sayi1 = int(input(\"Lutfen 1. sayiyi giriniz : \"))\\nsayi2 = int(input(\"Lutfen 2. sayiyi giriniz : \"))\\nsayi3 = int(input(\"Lutfen 3. sayiyi giriniz : \"))\\n\\ntoplam = sayi1 + sayi2 + sayi3\\ncarpim = sayi1 * sayi2 * sayi3\\nortalama = toplam / 3\\nprint(\"Girmis oldugunuz sayilarin toplami :\",toplam,\"carpimi :\",carpim, \"ortalamasi :\",ortalama)'"
      ]
     },
     "execution_count": 19,
     "metadata": {},
     "output_type": "execute_result"
    }
   ],
   "source": [
    "\"\"\"sayi1 = int(input(\"Lutfen 1. sayiyi giriniz : \"))\n",
    "sayi2 = int(input(\"Lutfen 2. sayiyi giriniz : \"))\n",
    "sayi3 = int(input(\"Lutfen 3. sayiyi giriniz : \"))\n",
    "\n",
    "toplam = sayi1 + sayi2 + sayi3\n",
    "carpim = sayi1 * sayi2 * sayi3\n",
    "ortalama = toplam / 3\n",
    "print(\"Girmis oldugunuz sayilarin toplami :\",toplam,\"carpimi :\",carpim, \"ortalamasi :\",ortalama)\"\"\""
   ]
  },
  {
   "cell_type": "code",
   "execution_count": 20,
   "id": "5008a81d",
   "metadata": {
    "execution": {
     "iopub.execute_input": "2025-05-24T12:46:20.865828Z",
     "iopub.status.busy": "2025-05-24T12:46:20.865441Z",
     "iopub.status.idle": "2025-05-24T12:46:20.871748Z",
     "shell.execute_reply": "2025-05-24T12:46:20.870859Z"
    },
    "papermill": {
     "duration": 0.024042,
     "end_time": "2025-05-24T12:46:20.873233",
     "exception": false,
     "start_time": "2025-05-24T12:46:20.849191",
     "status": "completed"
    },
    "tags": []
   },
   "outputs": [
    {
     "data": {
      "text/plain": [
       "'type(sayi1)'"
      ]
     },
     "execution_count": 20,
     "metadata": {},
     "output_type": "execute_result"
    }
   ],
   "source": [
    "\"\"\"type(sayi1)\"\"\""
   ]
  },
  {
   "cell_type": "code",
   "execution_count": 21,
   "id": "dc7f2b76",
   "metadata": {
    "execution": {
     "iopub.execute_input": "2025-05-24T12:46:20.905454Z",
     "iopub.status.busy": "2025-05-24T12:46:20.905118Z",
     "iopub.status.idle": "2025-05-24T12:46:20.911094Z",
     "shell.execute_reply": "2025-05-24T12:46:20.910130Z"
    },
    "papermill": {
     "duration": 0.023967,
     "end_time": "2025-05-24T12:46:20.912615",
     "exception": false,
     "start_time": "2025-05-24T12:46:20.888648",
     "status": "completed"
    },
    "tags": []
   },
   "outputs": [
    {
     "data": {
      "text/plain": [
       "'vize1 = int(input(\"Lutfen 1. vize notunuzu giriniz : \"))\\nvize2 = int(input(\"Lutfen 2. vize notunuzu giriniz : \"))\\nfinal1 = int(input(\"Lutfen final notunuzu giriniz : \"))\\nortalama = vize1 * 0.3 + vize2 * 0.3 + final1*0.4'"
      ]
     },
     "execution_count": 21,
     "metadata": {},
     "output_type": "execute_result"
    }
   ],
   "source": [
    "\"\"\"vize1 = int(input(\"Lutfen 1. vize notunuzu giriniz : \"))\n",
    "vize2 = int(input(\"Lutfen 2. vize notunuzu giriniz : \"))\n",
    "final1 = int(input(\"Lutfen final notunuzu giriniz : \"))\n",
    "ortalama = vize1 * 0.3 + vize2 * 0.3 + final1*0.4\"\"\""
   ]
  },
  {
   "cell_type": "code",
   "execution_count": 22,
   "id": "94a9fe24",
   "metadata": {
    "execution": {
     "iopub.execute_input": "2025-05-24T12:46:20.945020Z",
     "iopub.status.busy": "2025-05-24T12:46:20.944599Z",
     "iopub.status.idle": "2025-05-24T12:46:20.950310Z",
     "shell.execute_reply": "2025-05-24T12:46:20.949517Z"
    },
    "papermill": {
     "duration": 0.023748,
     "end_time": "2025-05-24T12:46:20.951849",
     "exception": false,
     "start_time": "2025-05-24T12:46:20.928101",
     "status": "completed"
    },
    "tags": []
   },
   "outputs": [
    {
     "data": {
      "text/plain": [
       "'print(\"{}, {} ve {} notlarına sahip ortalamaniz : {}\".format(vize1,vize2,final1,ortalama))'"
      ]
     },
     "execution_count": 22,
     "metadata": {},
     "output_type": "execute_result"
    }
   ],
   "source": [
    "\"\"\"print(\"{}, {} ve {} notlarına sahip ortalamaniz : {}\".format(vize1,vize2,final1,ortalama))\"\"\""
   ]
  },
  {
   "cell_type": "code",
   "execution_count": 23,
   "id": "639c1981",
   "metadata": {
    "execution": {
     "iopub.execute_input": "2025-05-24T12:46:20.984894Z",
     "iopub.status.busy": "2025-05-24T12:46:20.984518Z",
     "iopub.status.idle": "2025-05-24T12:46:20.990464Z",
     "shell.execute_reply": "2025-05-24T12:46:20.989561Z"
    },
    "papermill": {
     "duration": 0.024201,
     "end_time": "2025-05-24T12:46:20.991870",
     "exception": false,
     "start_time": "2025-05-24T12:46:20.967669",
     "status": "completed"
    },
    "tags": []
   },
   "outputs": [
    {
     "data": {
      "text/plain": [
       "'print(f\"{vize1}, {vize2} ve {final1} notlarına sahip ortalamaniz : {ortalama}\")'"
      ]
     },
     "execution_count": 23,
     "metadata": {},
     "output_type": "execute_result"
    }
   ],
   "source": [
    "\"\"\"print(f\"{vize1}, {vize2} ve {final1} notlarına sahip ortalamaniz : {ortalama}\")\"\"\""
   ]
  },
  {
   "cell_type": "code",
   "execution_count": 24,
   "id": "35bc6e2f",
   "metadata": {
    "execution": {
     "iopub.execute_input": "2025-05-24T12:46:21.027680Z",
     "iopub.status.busy": "2025-05-24T12:46:21.027316Z",
     "iopub.status.idle": "2025-05-24T12:46:21.031947Z",
     "shell.execute_reply": "2025-05-24T12:46:21.031066Z"
    },
    "papermill": {
     "duration": 0.025372,
     "end_time": "2025-05-24T12:46:21.033451",
     "exception": false,
     "start_time": "2025-05-24T12:46:21.008079",
     "status": "completed"
    },
    "tags": []
   },
   "outputs": [],
   "source": [
    "personel_isimleri = [\"Beyza\",\"Büşra\",\"Zeynep\",\"Nurhayat\"]"
   ]
  },
  {
   "cell_type": "code",
   "execution_count": 25,
   "id": "43541692",
   "metadata": {
    "execution": {
     "iopub.execute_input": "2025-05-24T12:46:21.066277Z",
     "iopub.status.busy": "2025-05-24T12:46:21.065905Z",
     "iopub.status.idle": "2025-05-24T12:46:21.071199Z",
     "shell.execute_reply": "2025-05-24T12:46:21.070151Z"
    },
    "papermill": {
     "duration": 0.023826,
     "end_time": "2025-05-24T12:46:21.072916",
     "exception": false,
     "start_time": "2025-05-24T12:46:21.049090",
     "status": "completed"
    },
    "tags": []
   },
   "outputs": [],
   "source": [
    "personel_yaslari = [10,11,12,13]"
   ]
  },
  {
   "cell_type": "code",
   "execution_count": 26,
   "id": "0b01a696",
   "metadata": {
    "execution": {
     "iopub.execute_input": "2025-05-24T12:46:21.106826Z",
     "iopub.status.busy": "2025-05-24T12:46:21.106416Z",
     "iopub.status.idle": "2025-05-24T12:46:21.112668Z",
     "shell.execute_reply": "2025-05-24T12:46:21.111786Z"
    },
    "papermill": {
     "duration": 0.025147,
     "end_time": "2025-05-24T12:46:21.114237",
     "exception": false,
     "start_time": "2025-05-24T12:46:21.089090",
     "status": "completed"
    },
    "tags": []
   },
   "outputs": [
    {
     "data": {
      "text/plain": [
       "'Beyza'"
      ]
     },
     "execution_count": 26,
     "metadata": {},
     "output_type": "execute_result"
    }
   ],
   "source": [
    "personel_isimleri[0]"
   ]
  },
  {
   "cell_type": "code",
   "execution_count": 27,
   "id": "f900cb20",
   "metadata": {
    "execution": {
     "iopub.execute_input": "2025-05-24T12:46:21.148682Z",
     "iopub.status.busy": "2025-05-24T12:46:21.147548Z",
     "iopub.status.idle": "2025-05-24T12:46:21.153597Z",
     "shell.execute_reply": "2025-05-24T12:46:21.152899Z"
    },
    "papermill": {
     "duration": 0.024517,
     "end_time": "2025-05-24T12:46:21.154963",
     "exception": false,
     "start_time": "2025-05-24T12:46:21.130446",
     "status": "completed"
    },
    "tags": []
   },
   "outputs": [
    {
     "data": {
      "text/plain": [
       "'Nurhayat'"
      ]
     },
     "execution_count": 27,
     "metadata": {},
     "output_type": "execute_result"
    }
   ],
   "source": [
    "personel_isimleri[-1]"
   ]
  },
  {
   "cell_type": "code",
   "execution_count": 28,
   "id": "b8ff2931",
   "metadata": {
    "execution": {
     "iopub.execute_input": "2025-05-24T12:46:21.187345Z",
     "iopub.status.busy": "2025-05-24T12:46:21.187006Z",
     "iopub.status.idle": "2025-05-24T12:46:21.193656Z",
     "shell.execute_reply": "2025-05-24T12:46:21.192781Z"
    },
    "papermill": {
     "duration": 0.024762,
     "end_time": "2025-05-24T12:46:21.195211",
     "exception": false,
     "start_time": "2025-05-24T12:46:21.170449",
     "status": "completed"
    },
    "tags": []
   },
   "outputs": [
    {
     "data": {
      "text/plain": [
       "['Beyza', 'Büşra', 'Zeynep']"
      ]
     },
     "execution_count": 28,
     "metadata": {},
     "output_type": "execute_result"
    }
   ],
   "source": [
    "personel_isimleri[0:3]"
   ]
  },
  {
   "cell_type": "code",
   "execution_count": 29,
   "id": "27a299d6",
   "metadata": {
    "execution": {
     "iopub.execute_input": "2025-05-24T12:46:21.228715Z",
     "iopub.status.busy": "2025-05-24T12:46:21.227675Z",
     "iopub.status.idle": "2025-05-24T12:46:21.232346Z",
     "shell.execute_reply": "2025-05-24T12:46:21.231573Z"
    },
    "papermill": {
     "duration": 0.022505,
     "end_time": "2025-05-24T12:46:21.233607",
     "exception": false,
     "start_time": "2025-05-24T12:46:21.211102",
     "status": "completed"
    },
    "tags": []
   },
   "outputs": [],
   "source": [
    "personel_isimleri.append(\"Kadir\")"
   ]
  },
  {
   "cell_type": "code",
   "execution_count": 30,
   "id": "9265f32c",
   "metadata": {
    "execution": {
     "iopub.execute_input": "2025-05-24T12:46:21.267838Z",
     "iopub.status.busy": "2025-05-24T12:46:21.266860Z",
     "iopub.status.idle": "2025-05-24T12:46:21.273127Z",
     "shell.execute_reply": "2025-05-24T12:46:21.272226Z"
    },
    "papermill": {
     "duration": 0.02524,
     "end_time": "2025-05-24T12:46:21.274686",
     "exception": false,
     "start_time": "2025-05-24T12:46:21.249446",
     "status": "completed"
    },
    "tags": []
   },
   "outputs": [
    {
     "data": {
      "text/plain": [
       "['Beyza', 'Büşra', 'Zeynep', 'Nurhayat', 'Kadir']"
      ]
     },
     "execution_count": 30,
     "metadata": {},
     "output_type": "execute_result"
    }
   ],
   "source": [
    "personel_isimleri"
   ]
  },
  {
   "cell_type": "code",
   "execution_count": 31,
   "id": "eb9b49f6",
   "metadata": {
    "execution": {
     "iopub.execute_input": "2025-05-24T12:46:21.307409Z",
     "iopub.status.busy": "2025-05-24T12:46:21.307029Z",
     "iopub.status.idle": "2025-05-24T12:46:21.314233Z",
     "shell.execute_reply": "2025-05-24T12:46:21.313291Z"
    },
    "papermill": {
     "duration": 0.025405,
     "end_time": "2025-05-24T12:46:21.315882",
     "exception": false,
     "start_time": "2025-05-24T12:46:21.290477",
     "status": "completed"
    },
    "tags": []
   },
   "outputs": [
    {
     "data": {
      "text/plain": [
       "5"
      ]
     },
     "execution_count": 31,
     "metadata": {},
     "output_type": "execute_result"
    }
   ],
   "source": [
    "len(personel_isimleri)"
   ]
  },
  {
   "cell_type": "code",
   "execution_count": 32,
   "id": "6d46ce09",
   "metadata": {
    "execution": {
     "iopub.execute_input": "2025-05-24T12:46:21.349973Z",
     "iopub.status.busy": "2025-05-24T12:46:21.349151Z",
     "iopub.status.idle": "2025-05-24T12:46:21.355577Z",
     "shell.execute_reply": "2025-05-24T12:46:21.354787Z"
    },
    "papermill": {
     "duration": 0.025176,
     "end_time": "2025-05-24T12:46:21.357050",
     "exception": false,
     "start_time": "2025-05-24T12:46:21.331874",
     "status": "completed"
    },
    "tags": []
   },
   "outputs": [
    {
     "data": {
      "text/plain": [
       "'Yusuf'"
      ]
     },
     "execution_count": 32,
     "metadata": {},
     "output_type": "execute_result"
    }
   ],
   "source": [
    "karisik = [10,'Yusuf',15.2]\n",
    "karisik[1]"
   ]
  },
  {
   "cell_type": "code",
   "execution_count": 33,
   "id": "bf85a689",
   "metadata": {
    "execution": {
     "iopub.execute_input": "2025-05-24T12:46:21.394967Z",
     "iopub.status.busy": "2025-05-24T12:46:21.394006Z",
     "iopub.status.idle": "2025-05-24T12:46:21.399340Z",
     "shell.execute_reply": "2025-05-24T12:46:21.398335Z"
    },
    "papermill": {
     "duration": 0.027637,
     "end_time": "2025-05-24T12:46:21.400956",
     "exception": false,
     "start_time": "2025-05-24T12:46:21.373319",
     "status": "completed"
    },
    "tags": []
   },
   "outputs": [],
   "source": [
    "sozluk = {\n",
    "    \"Araba\" : \"Car\",\n",
    "    \"Bilgisayar\" : \"Computer\",\n",
    "    \"Masa\" : \"Table\",\n",
    "    \"Telefon\" : \"Phone\"\n",
    "}"
   ]
  },
  {
   "cell_type": "code",
   "execution_count": 34,
   "id": "a5fb8a12",
   "metadata": {
    "execution": {
     "iopub.execute_input": "2025-05-24T12:46:21.434391Z",
     "iopub.status.busy": "2025-05-24T12:46:21.434050Z",
     "iopub.status.idle": "2025-05-24T12:46:21.439615Z",
     "shell.execute_reply": "2025-05-24T12:46:21.438907Z"
    },
    "papermill": {
     "duration": 0.024188,
     "end_time": "2025-05-24T12:46:21.441328",
     "exception": false,
     "start_time": "2025-05-24T12:46:21.417140",
     "status": "completed"
    },
    "tags": []
   },
   "outputs": [
    {
     "data": {
      "text/plain": [
       "'Car'"
      ]
     },
     "execution_count": 34,
     "metadata": {},
     "output_type": "execute_result"
    }
   ],
   "source": [
    "sozluk[\"Araba\"]"
   ]
  },
  {
   "cell_type": "code",
   "execution_count": 35,
   "id": "1ba19a8a",
   "metadata": {
    "execution": {
     "iopub.execute_input": "2025-05-24T12:46:21.475836Z",
     "iopub.status.busy": "2025-05-24T12:46:21.475434Z",
     "iopub.status.idle": "2025-05-24T12:46:21.479949Z",
     "shell.execute_reply": "2025-05-24T12:46:21.479173Z"
    },
    "papermill": {
     "duration": 0.023211,
     "end_time": "2025-05-24T12:46:21.481322",
     "exception": false,
     "start_time": "2025-05-24T12:46:21.458111",
     "status": "completed"
    },
    "tags": []
   },
   "outputs": [],
   "source": [
    "personel = {\n",
    "    \"0001\" : [\"Beyza\",\"Risk Yönetimi\",18,150000],\n",
    "    \"0002\" : [\"Zeynep\",\"İnsan Kaynakları\",18,100000]\n",
    "}"
   ]
  },
  {
   "cell_type": "code",
   "execution_count": 36,
   "id": "a0b5289f",
   "metadata": {
    "execution": {
     "iopub.execute_input": "2025-05-24T12:46:21.515600Z",
     "iopub.status.busy": "2025-05-24T12:46:21.515271Z",
     "iopub.status.idle": "2025-05-24T12:46:21.519589Z",
     "shell.execute_reply": "2025-05-24T12:46:21.518805Z"
    },
    "papermill": {
     "duration": 0.023636,
     "end_time": "2025-05-24T12:46:21.521062",
     "exception": false,
     "start_time": "2025-05-24T12:46:21.497426",
     "status": "completed"
    },
    "tags": []
   },
   "outputs": [],
   "source": [
    "#sorgu = input(\"Lutfen bilgilerini görüntülemek istediğiniz personelin id'sini giriniz : \")\n",
    "#personel[sorgu]"
   ]
  },
  {
   "cell_type": "code",
   "execution_count": 37,
   "id": "01d58a58",
   "metadata": {
    "execution": {
     "iopub.execute_input": "2025-05-24T12:46:21.554449Z",
     "iopub.status.busy": "2025-05-24T12:46:21.554108Z",
     "iopub.status.idle": "2025-05-24T12:46:21.559625Z",
     "shell.execute_reply": "2025-05-24T12:46:21.558600Z"
    },
    "papermill": {
     "duration": 0.02467,
     "end_time": "2025-05-24T12:46:21.561694",
     "exception": false,
     "start_time": "2025-05-24T12:46:21.537024",
     "status": "completed"
    },
    "tags": []
   },
   "outputs": [],
   "source": [
    "toptan_fiyat = {\n",
    "    \"Elma\" : [2,1.5,1],\n",
    "    \"Armut\" : [3,2.5,2],\n",
    "    \"Çilek\" : [4,3,2.5]\n",
    "}\n",
    "\n",
    "toplam = toptan_fiyat[\"Elma\"][0]*8 + toptan_fiyat[\"Armut\"][1]*20 + toptan_fiyat[\"Çilek\"][2]*55"
   ]
  },
  {
   "cell_type": "code",
   "execution_count": 38,
   "id": "9ba5f126",
   "metadata": {
    "execution": {
     "iopub.execute_input": "2025-05-24T12:46:21.596700Z",
     "iopub.status.busy": "2025-05-24T12:46:21.596337Z",
     "iopub.status.idle": "2025-05-24T12:46:21.602125Z",
     "shell.execute_reply": "2025-05-24T12:46:21.601418Z"
    },
    "papermill": {
     "duration": 0.024207,
     "end_time": "2025-05-24T12:46:21.603423",
     "exception": false,
     "start_time": "2025-05-24T12:46:21.579216",
     "status": "completed"
    },
    "tags": []
   },
   "outputs": [
    {
     "data": {
      "text/plain": [
       "203.5"
      ]
     },
     "execution_count": 38,
     "metadata": {},
     "output_type": "execute_result"
    }
   ],
   "source": [
    "toplam"
   ]
  },
  {
   "cell_type": "code",
   "execution_count": 39,
   "id": "590bee3f",
   "metadata": {
    "execution": {
     "iopub.execute_input": "2025-05-24T12:46:21.638069Z",
     "iopub.status.busy": "2025-05-24T12:46:21.637279Z",
     "iopub.status.idle": "2025-05-24T12:46:21.643142Z",
     "shell.execute_reply": "2025-05-24T12:46:21.642233Z"
    },
    "papermill": {
     "duration": 0.024519,
     "end_time": "2025-05-24T12:46:21.644568",
     "exception": false,
     "start_time": "2025-05-24T12:46:21.620049",
     "status": "completed"
    },
    "tags": []
   },
   "outputs": [
    {
     "data": {
      "text/plain": [
       "'yas = int(input(\"Lutfen yasinizi giriniz : \"))\\n\\nif yas > 18:\\n    print(\"Hosgeldin.\")\\n\\nelif yas == 18:\\n    print(\"Kimliginizi gosteriniz.\")\\n\\nelif yas < 18:\\n    print(\"Giremezsin.\")'"
      ]
     },
     "execution_count": 39,
     "metadata": {},
     "output_type": "execute_result"
    }
   ],
   "source": [
    "\"\"\"yas = int(input(\"Lutfen yasinizi giriniz : \"))\n",
    "\n",
    "if yas > 18:\n",
    "    print(\"Hosgeldin.\")\n",
    "\n",
    "elif yas == 18:\n",
    "    print(\"Kimliginizi gosteriniz.\")\n",
    "\n",
    "elif yas < 18:\n",
    "    print(\"Giremezsin.\")\"\"\""
   ]
  },
  {
   "cell_type": "code",
   "execution_count": 40,
   "id": "d4550292",
   "metadata": {
    "execution": {
     "iopub.execute_input": "2025-05-24T12:46:21.677941Z",
     "iopub.status.busy": "2025-05-24T12:46:21.677563Z",
     "iopub.status.idle": "2025-05-24T12:46:21.683885Z",
     "shell.execute_reply": "2025-05-24T12:46:21.682938Z"
    },
    "papermill": {
     "duration": 0.024755,
     "end_time": "2025-05-24T12:46:21.685517",
     "exception": false,
     "start_time": "2025-05-24T12:46:21.660762",
     "status": "completed"
    },
    "tags": []
   },
   "outputs": [
    {
     "data": {
      "text/plain": [
       "'yas = int(input(\"Lutfen yasinizi giriniz : \"))\\n\\nif yas <= 18 or yas == 18:\\n    print(\"Hosgeldin.\")\\n\\nelif yas < 18:\\n    print(\"Giremezsin.\")'"
      ]
     },
     "execution_count": 40,
     "metadata": {},
     "output_type": "execute_result"
    }
   ],
   "source": [
    "\"\"\"yas = int(input(\"Lutfen yasinizi giriniz : \"))\n",
    "\n",
    "if yas <= 18 or yas == 18:\n",
    "    print(\"Hosgeldin.\")\n",
    "\n",
    "elif yas < 18:\n",
    "    print(\"Giremezsin.\")\"\"\""
   ]
  },
  {
   "cell_type": "code",
   "execution_count": 41,
   "id": "d8a1e30b",
   "metadata": {
    "execution": {
     "iopub.execute_input": "2025-05-24T12:46:21.719331Z",
     "iopub.status.busy": "2025-05-24T12:46:21.718525Z",
     "iopub.status.idle": "2025-05-24T12:46:21.723067Z",
     "shell.execute_reply": "2025-05-24T12:46:21.722202Z"
    },
    "papermill": {
     "duration": 0.022927,
     "end_time": "2025-05-24T12:46:21.724541",
     "exception": false,
     "start_time": "2025-05-24T12:46:21.701614",
     "status": "completed"
    },
    "tags": []
   },
   "outputs": [],
   "source": [
    "#2 vize 1 final, vize%30, final%40 --> ortalama \n",
    "#90-100 --> AA\n",
    "#80-90 --> BA\n",
    "#70-80 --> BB\n",
    "#60-70 --> CB\n",
    "#50-60 --> CC\n",
    "#40-50 --> DC\n",
    "#<40 --> KALDI"
   ]
  },
  {
   "cell_type": "code",
   "execution_count": 42,
   "id": "4ff6ab79",
   "metadata": {
    "execution": {
     "iopub.execute_input": "2025-05-24T12:46:21.758884Z",
     "iopub.status.busy": "2025-05-24T12:46:21.757932Z",
     "iopub.status.idle": "2025-05-24T12:46:21.765904Z",
     "shell.execute_reply": "2025-05-24T12:46:21.764714Z"
    },
    "papermill": {
     "duration": 0.026711,
     "end_time": "2025-05-24T12:46:21.767409",
     "exception": false,
     "start_time": "2025-05-24T12:46:21.740698",
     "status": "completed"
    },
    "tags": []
   },
   "outputs": [
    {
     "name": "stdout",
     "output_type": "stream",
     "text": [
      "Ortalamaniz : 77.0\n",
      "Notunuz: 'BB'\n"
     ]
    }
   ],
   "source": [
    "vize1=100\n",
    "vize2=90\n",
    "final=50\n",
    "\n",
    "\n",
    "if 0 <= vize1 <= 100 and 0 <= vize2 <= 100 and 0 <= final <= 100:\n",
    "    sonuc=(vize1*0.3+vize2*0.3+final*0.4)\n",
    "    print(f\"Ortalamaniz : {sonuc}\")\n",
    "\n",
    "    if  sonuc>=90 and sonuc<=100:\n",
    "        print(\"Notunuz: 'AA'\")\n",
    "    elif  sonuc>=80 and sonuc<90:\n",
    "        print(\"Notunuz: 'BA'\")\n",
    "    elif  sonuc>=70 and sonuc<80:\n",
    "        print(\"Notunuz: 'BB'\")\n",
    "    elif  sonuc>=60 and sonuc<70:\n",
    "        print(\"Notunuz: 'CB'\")\n",
    "    elif  sonuc>=50 and sonuc<60:\n",
    "        print(\"Notunuz: 'CC'\")\n",
    "    elif  sonuc>=40 and sonuc<50:\n",
    "        print(\"Notunuz: 'DC'\")\n",
    "    else:\n",
    "        print(\"Kaldı...\")\n",
    "\n",
    "else:\n",
    "    print(\"Geçersiz değer girdiniz...\")"
   ]
  },
  {
   "cell_type": "code",
   "execution_count": 43,
   "id": "5d77abd3",
   "metadata": {
    "execution": {
     "iopub.execute_input": "2025-05-24T12:46:21.801298Z",
     "iopub.status.busy": "2025-05-24T12:46:21.800942Z",
     "iopub.status.idle": "2025-05-24T12:46:21.807106Z",
     "shell.execute_reply": "2025-05-24T12:46:21.806281Z"
    },
    "papermill": {
     "duration": 0.024788,
     "end_time": "2025-05-24T12:46:21.808404",
     "exception": false,
     "start_time": "2025-05-24T12:46:21.783616",
     "status": "completed"
    },
    "tags": []
   },
   "outputs": [
    {
     "data": {
      "text/plain": [
       "'cinsiyet = input(\"Lutfen cinsiyetinizi giriniz(E/K) : \")\\nboy = int(input(\"Lutfen boyunuzu cm cinsinden giriniz : \"))\\n\\nif (cinsiyet == \\'e\\' or cinsiyet == \\'E\\' or cinsiyet == \\'K\\'or cinsiyet == \\'k\\') and 230>=boy >= 0:\\n    if (cinsiyet == \\'e\\' or cinsiyet == \\'E\\') and boy >= 170:\\n        print(\"Tebrikler mülakati gectiniz...\")\\n\\n    elif (cinsiyet == \\'k\\' or cinsiyet == \\'K\\') and boy >= 160:\\n        print(\"Tebrikler mülakati gectiniz...\")\\n\\n    else:\\n        print(\"Malesef elendiniz.\")\\n\\nelse:\\n    print(\"Geçersiz bir deger girdiniz.\")\\n'"
      ]
     },
     "execution_count": 43,
     "metadata": {},
     "output_type": "execute_result"
    }
   ],
   "source": [
    "\"\"\"cinsiyet = input(\"Lutfen cinsiyetinizi giriniz(E/K) : \")\n",
    "boy = int(input(\"Lutfen boyunuzu cm cinsinden giriniz : \"))\n",
    "\n",
    "if (cinsiyet == 'e' or cinsiyet == 'E' or cinsiyet == 'K'or cinsiyet == 'k') and 230>=boy >= 0:\n",
    "    if (cinsiyet == 'e' or cinsiyet == 'E') and boy >= 170:\n",
    "        print(\"Tebrikler mülakati gectiniz...\")\n",
    "\n",
    "    elif (cinsiyet == 'k' or cinsiyet == 'K') and boy >= 160:\n",
    "        print(\"Tebrikler mülakati gectiniz...\")\n",
    "\n",
    "    else:\n",
    "        print(\"Malesef elendiniz.\")\n",
    "\n",
    "else:\n",
    "    print(\"Geçersiz bir deger girdiniz.\")\n",
    "\"\"\""
   ]
  },
  {
   "cell_type": "code",
   "execution_count": 44,
   "id": "861ccd91",
   "metadata": {
    "execution": {
     "iopub.execute_input": "2025-05-24T12:46:21.841992Z",
     "iopub.status.busy": "2025-05-24T12:46:21.841511Z",
     "iopub.status.idle": "2025-05-24T12:46:21.847679Z",
     "shell.execute_reply": "2025-05-24T12:46:21.846811Z"
    },
    "papermill": {
     "duration": 0.024547,
     "end_time": "2025-05-24T12:46:21.849175",
     "exception": false,
     "start_time": "2025-05-24T12:46:21.824628",
     "status": "completed"
    },
    "tags": []
   },
   "outputs": [
    {
     "data": {
      "text/plain": [
       "'cinsiyet = input(\"Lutfen cinsiyetinizi giriniz : \").lower()\\nprint(cinsiyet)\\n'"
      ]
     },
     "execution_count": 44,
     "metadata": {},
     "output_type": "execute_result"
    }
   ],
   "source": [
    "\"\"\"cinsiyet = input(\"Lutfen cinsiyetinizi giriniz : \").lower()\n",
    "print(cinsiyet)\n",
    "\"\"\""
   ]
  },
  {
   "cell_type": "code",
   "execution_count": 45,
   "id": "c2fe0989",
   "metadata": {
    "execution": {
     "iopub.execute_input": "2025-05-24T12:46:21.885079Z",
     "iopub.status.busy": "2025-05-24T12:46:21.884666Z",
     "iopub.status.idle": "2025-05-24T12:46:21.891167Z",
     "shell.execute_reply": "2025-05-24T12:46:21.890200Z"
    },
    "papermill": {
     "duration": 0.026309,
     "end_time": "2025-05-24T12:46:21.892558",
     "exception": false,
     "start_time": "2025-05-24T12:46:21.866249",
     "status": "completed"
    },
    "tags": []
   },
   "outputs": [
    {
     "data": {
      "text/plain": [
       "'sayi1 = int(input(\"Lutfen 1. sayiyi giriniz : \"))\\nsayi2 = int(input(\"Lutfen 2. sayiyi giriniz : \"))\\nsayi3 = int(input(\"Lutfen 3. sayiyi giriniz : \"))\\n\\n\\nif sayi1 > sayi2 and sayi1 > sayi3:\\n    en_buyuk_sayi = sayi1\\nelif sayi2 > sayi1 and sayi2 > sayi3:\\n    en_buyuk_sayi = sayi2\\nelse:\\n    en_buyuk_sayi = sayi3\\n\\nprint(f\"Girmis oldugunuz sayilardan en buyugu : {en_buyuk_sayi}\")'"
      ]
     },
     "execution_count": 45,
     "metadata": {},
     "output_type": "execute_result"
    }
   ],
   "source": [
    "\"\"\"sayi1 = int(input(\"Lutfen 1. sayiyi giriniz : \"))\n",
    "sayi2 = int(input(\"Lutfen 2. sayiyi giriniz : \"))\n",
    "sayi3 = int(input(\"Lutfen 3. sayiyi giriniz : \"))\n",
    "\n",
    "\n",
    "if sayi1 > sayi2 and sayi1 > sayi3:\n",
    "    en_buyuk_sayi = sayi1\n",
    "elif sayi2 > sayi1 and sayi2 > sayi3:\n",
    "    en_buyuk_sayi = sayi2\n",
    "else:\n",
    "    en_buyuk_sayi = sayi3\n",
    "\n",
    "print(f\"Girmis oldugunuz sayilardan en buyugu : {en_buyuk_sayi}\")\"\"\""
   ]
  },
  {
   "cell_type": "code",
   "execution_count": 46,
   "id": "dbb2357e",
   "metadata": {
    "execution": {
     "iopub.execute_input": "2025-05-24T12:46:21.927070Z",
     "iopub.status.busy": "2025-05-24T12:46:21.926639Z",
     "iopub.status.idle": "2025-05-24T12:46:21.933925Z",
     "shell.execute_reply": "2025-05-24T12:46:21.932941Z"
    },
    "papermill": {
     "duration": 0.02634,
     "end_time": "2025-05-24T12:46:21.935496",
     "exception": false,
     "start_time": "2025-05-24T12:46:21.909156",
     "status": "completed"
    },
    "tags": []
   },
   "outputs": [
    {
     "data": {
      "text/plain": [
       "'urunler = {\\n    \"Elma\" : [5,4,3.5],\\n    \"Armut\" : [6,5,4.5],\\n    \"Çilek\" : [8,7,6.5]\\n}\\n\\nprint(f\"{elma_kilo} kilo elma, {armut_kilo} kilo armut, {cilek_kilo} kilo çilek aldınız. Ödemeniz gereken toplam tutar : {toptan_fiyat} TL\\'dir.\")\\nelma_kilo = int(input(\"Lutfen kac kilo elma almak istediginizi giriniz : \"))\\narmut_kilo = int(input(\"Lutfen kac kilo armut almak istediginizi giriniz : \"))\\ncilek_kilo = int(input(\"Lutfen kac kilo çilek almak istediginizi giriniz : \"))\\ntoptan_fiyat = 0\\nif 10 >= elma_kilo > 0:\\n    toptan_fiyat += elma_kilo *  urunler[\\'Elma\\'][0]\\nelif 50 >= elma_kilo >= 11:\\n    toptan_fiyat += elma_kilo *  urunler[\\'Elma\\'][1]\\nelif elma_kilo > 50:\\n    toptan_fiyat += elma_kilo *  urunler[\\'Elma\\'][2]\\n\\nif 10 >= armut_kilo > 0:\\n    toptan_fiyat += armut_kilo *  urunler[\\'Armut\\'][0]\\nelif 50 >= armut_kilo >= 11:\\n    toptan_fiyat += armut_kilo *  urunler[\\'Armut\\'][1]\\nelif armut_kilo > 50:\\n    toptan_fiyat += armut_kilo *  urunler[\\'Armut\\'][2]\\n\\nif 10 >= cilek_kilo > 0:\\n    toptan_fiyat += cilek_kilo *  urunler[\\'Çilek\\'][0]\\nelif 50 >= cilek_kilo >= 11:\\n    toptan_fiyat += cilek_kilo *  urunler[\\'Çilek\\'][1]\\nelif cilek_kilo > 50:\\n    toptan_fiyat += cilek_kilo *  urunler[\\'Çilek\\'][2]\\n\\n\\nprint(f\"{elma_kilo} kilo elma, {armut_kilo} kilo armut, {cilek_kilo} kilo çilek aldınız. Ödemeniz gereken toplam tutar : {toptan_fiyat} TL\\'dir.\")'"
      ]
     },
     "execution_count": 46,
     "metadata": {},
     "output_type": "execute_result"
    }
   ],
   "source": [
    "\"\"\"urunler = {\n",
    "    \"Elma\" : [5,4,3.5],\n",
    "    \"Armut\" : [6,5,4.5],\n",
    "    \"Çilek\" : [8,7,6.5]\n",
    "}\n",
    "\n",
    "print(f\"{elma_kilo} kilo elma, {armut_kilo} kilo armut, {cilek_kilo} kilo çilek aldınız. Ödemeniz gereken toplam tutar : {toptan_fiyat} TL'dir.\")\n",
    "elma_kilo = int(input(\"Lutfen kac kilo elma almak istediginizi giriniz : \"))\n",
    "armut_kilo = int(input(\"Lutfen kac kilo armut almak istediginizi giriniz : \"))\n",
    "cilek_kilo = int(input(\"Lutfen kac kilo çilek almak istediginizi giriniz : \"))\n",
    "toptan_fiyat = 0\n",
    "if 10 >= elma_kilo > 0:\n",
    "    toptan_fiyat += elma_kilo *  urunler['Elma'][0]\n",
    "elif 50 >= elma_kilo >= 11:\n",
    "    toptan_fiyat += elma_kilo *  urunler['Elma'][1]\n",
    "elif elma_kilo > 50:\n",
    "    toptan_fiyat += elma_kilo *  urunler['Elma'][2]\n",
    "\n",
    "if 10 >= armut_kilo > 0:\n",
    "    toptan_fiyat += armut_kilo *  urunler['Armut'][0]\n",
    "elif 50 >= armut_kilo >= 11:\n",
    "    toptan_fiyat += armut_kilo *  urunler['Armut'][1]\n",
    "elif armut_kilo > 50:\n",
    "    toptan_fiyat += armut_kilo *  urunler['Armut'][2]\n",
    "\n",
    "if 10 >= cilek_kilo > 0:\n",
    "    toptan_fiyat += cilek_kilo *  urunler['Çilek'][0]\n",
    "elif 50 >= cilek_kilo >= 11:\n",
    "    toptan_fiyat += cilek_kilo *  urunler['Çilek'][1]\n",
    "elif cilek_kilo > 50:\n",
    "    toptan_fiyat += cilek_kilo *  urunler['Çilek'][2]\n",
    "\n",
    "\n",
    "print(f\"{elma_kilo} kilo elma, {armut_kilo} kilo armut, {cilek_kilo} kilo çilek aldınız. Ödemeniz gereken toplam tutar : {toptan_fiyat} TL'dir.\")\"\"\""
   ]
  },
  {
   "cell_type": "code",
   "execution_count": 47,
   "id": "0ed94764",
   "metadata": {
    "execution": {
     "iopub.execute_input": "2025-05-24T12:46:21.970520Z",
     "iopub.status.busy": "2025-05-24T12:46:21.970146Z",
     "iopub.status.idle": "2025-05-24T12:46:21.975397Z",
     "shell.execute_reply": "2025-05-24T12:46:21.974495Z"
    },
    "papermill": {
     "duration": 0.025015,
     "end_time": "2025-05-24T12:46:21.977562",
     "exception": false,
     "start_time": "2025-05-24T12:46:21.952547",
     "status": "completed"
    },
    "tags": []
   },
   "outputs": [
    {
     "name": "stdout",
     "output_type": "stream",
     "text": [
      "10\n",
      "11\n",
      "12\n",
      "13\n",
      "14\n",
      "15\n",
      "16\n",
      "17\n",
      "18\n",
      "19\n",
      "20\n"
     ]
    }
   ],
   "source": [
    "sayi = 10\n",
    "while sayi <= 20:\n",
    "    print(sayi)\n",
    "    sayi += 1\n",
    "    "
   ]
  },
  {
   "cell_type": "code",
   "execution_count": 48,
   "id": "fa2c1643",
   "metadata": {
    "execution": {
     "iopub.execute_input": "2025-05-24T12:46:22.025926Z",
     "iopub.status.busy": "2025-05-24T12:46:22.025422Z",
     "iopub.status.idle": "2025-05-24T12:46:22.033045Z",
     "shell.execute_reply": "2025-05-24T12:46:22.031936Z"
    },
    "papermill": {
     "duration": 0.036288,
     "end_time": "2025-05-24T12:46:22.035125",
     "exception": false,
     "start_time": "2025-05-24T12:46:21.998837",
     "status": "completed"
    },
    "tags": []
   },
   "outputs": [
    {
     "data": {
      "text/plain": [
       "'tek_mi_cift_mi = input(\"Lutfen tek yada cift sayilari yazdirmak istediğinizi giriniz : \")\\n\\nif tek_mi_cift_mi == \\'t\\':\\n    baslangic = 1\\n    while baslangic <= 100:\\n        print(baslangic)\\n        baslangic += 2\\nelse:\\n    baslangic = 2\\n    while baslangic <= 100:\\n        print(baslangic)\\n        baslangic += 2'"
      ]
     },
     "execution_count": 48,
     "metadata": {},
     "output_type": "execute_result"
    }
   ],
   "source": [
    "\"\"\"tek_mi_cift_mi = input(\"Lutfen tek yada cift sayilari yazdirmak istediğinizi giriniz : \")\n",
    "\n",
    "if tek_mi_cift_mi == 't':\n",
    "    baslangic = 1\n",
    "    while baslangic <= 100:\n",
    "        print(baslangic)\n",
    "        baslangic += 2\n",
    "else:\n",
    "    baslangic = 2\n",
    "    while baslangic <= 100:\n",
    "        print(baslangic)\n",
    "        baslangic += 2\"\"\""
   ]
  },
  {
   "cell_type": "code",
   "execution_count": 49,
   "id": "fe39cd74",
   "metadata": {
    "execution": {
     "iopub.execute_input": "2025-05-24T12:46:22.080805Z",
     "iopub.status.busy": "2025-05-24T12:46:22.080390Z",
     "iopub.status.idle": "2025-05-24T12:46:22.086546Z",
     "shell.execute_reply": "2025-05-24T12:46:22.085804Z"
    },
    "papermill": {
     "duration": 0.02568,
     "end_time": "2025-05-24T12:46:22.088135",
     "exception": false,
     "start_time": "2025-05-24T12:46:22.062455",
     "status": "completed"
    },
    "tags": []
   },
   "outputs": [
    {
     "data": {
      "text/plain": [
       "'sayi1 = int(input(\"Lutfen 1. sayiyi giriniz : \"))\\nsayi2 = int(input(\"Lutfen 2. sayiyi giriniz : \"))\\n\\nkucuk_sayi = min(sayi1,sayi2)\\nbuyuk_sayi = max(sayi1,sayi2)\\ntoplam = 0\\nkucuk_sayi += 1\\nwhile kucuk_sayi < buyuk_sayi:\\n    toplam += kucuk_sayi\\n    kucuk_sayi += 1\\n\\nprint(\"Girmis oldugunuz sayilar arasindaki sayilarin toplami : \",toplam)'"
      ]
     },
     "execution_count": 49,
     "metadata": {},
     "output_type": "execute_result"
    }
   ],
   "source": [
    "\"\"\"sayi1 = int(input(\"Lutfen 1. sayiyi giriniz : \"))\n",
    "sayi2 = int(input(\"Lutfen 2. sayiyi giriniz : \"))\n",
    "\n",
    "kucuk_sayi = min(sayi1,sayi2)\n",
    "buyuk_sayi = max(sayi1,sayi2)\n",
    "toplam = 0\n",
    "kucuk_sayi += 1\n",
    "while kucuk_sayi < buyuk_sayi:\n",
    "    toplam += kucuk_sayi\n",
    "    kucuk_sayi += 1\n",
    "\n",
    "print(\"Girmis oldugunuz sayilar arasindaki sayilarin toplami : \",toplam)\"\"\""
   ]
  },
  {
   "cell_type": "code",
   "execution_count": 50,
   "id": "d05288c2",
   "metadata": {
    "execution": {
     "iopub.execute_input": "2025-05-24T12:46:22.123614Z",
     "iopub.status.busy": "2025-05-24T12:46:22.123241Z",
     "iopub.status.idle": "2025-05-24T12:46:22.130142Z",
     "shell.execute_reply": "2025-05-24T12:46:22.128900Z"
    },
    "papermill": {
     "duration": 0.026973,
     "end_time": "2025-05-24T12:46:22.132270",
     "exception": false,
     "start_time": "2025-05-24T12:46:22.105297",
     "status": "completed"
    },
    "tags": []
   },
   "outputs": [
    {
     "data": {
      "text/plain": [
       "'sayi = int(input(\"Lutfen faktoriyelini almak istediginiz sayiyi giriniz : \"))\\nfakt = 1\\nsayi_copy = sayi\\nif sayi == 0:\\n    fakt = 1\\n    print(f\"{sayi_copy}! = {fakt}\")\\n\\nelif sayi >= 1:\\n    while sayi >= 1:\\n        fakt *= sayi\\n        sayi -= 1\\n    print(f\"{sayi_copy}! = {fakt}\")\\nelse:\\n    print(\"Negatif sayilarin faktoriyeli alınamaz.\")\\n\\n'"
      ]
     },
     "execution_count": 50,
     "metadata": {},
     "output_type": "execute_result"
    }
   ],
   "source": [
    "\"\"\"sayi = int(input(\"Lutfen faktoriyelini almak istediginiz sayiyi giriniz : \"))\n",
    "fakt = 1\n",
    "sayi_copy = sayi\n",
    "if sayi == 0:\n",
    "    fakt = 1\n",
    "    print(f\"{sayi_copy}! = {fakt}\")\n",
    "\n",
    "elif sayi >= 1:\n",
    "    while sayi >= 1:\n",
    "        fakt *= sayi\n",
    "        sayi -= 1\n",
    "    print(f\"{sayi_copy}! = {fakt}\")\n",
    "else:\n",
    "    print(\"Negatif sayilarin faktoriyeli alınamaz.\")\n",
    "\n",
    "\"\"\""
   ]
  },
  {
   "cell_type": "code",
   "execution_count": 51,
   "id": "3e5e68b4",
   "metadata": {
    "execution": {
     "iopub.execute_input": "2025-05-24T12:46:22.192635Z",
     "iopub.status.busy": "2025-05-24T12:46:22.192099Z",
     "iopub.status.idle": "2025-05-24T12:46:22.201522Z",
     "shell.execute_reply": "2025-05-24T12:46:22.200809Z"
    },
    "papermill": {
     "duration": 0.041907,
     "end_time": "2025-05-24T12:46:22.203066",
     "exception": false,
     "start_time": "2025-05-24T12:46:22.161159",
     "status": "completed"
    },
    "tags": []
   },
   "outputs": [
    {
     "data": {
      "text/plain": [
       "'n = int(input(\"Bir tamsayı girin: \"))\\nif n < 2:\\n    print(f\"{n} bir asal sayı değildir.\")\\nelse:\\n    k = 2           \\n    asal_mi = True   \\n    while k < n:\\n        if n % k == 0: \\n            asal_mi = False\\n            break\\n        k += 1        \\n    if asal_mi:\\n        print(f\"{n} bir asal sayıdır.\")\\n    else:\\n        print(f\"{n} bir asal sayı değildir.\")'"
      ]
     },
     "execution_count": 51,
     "metadata": {},
     "output_type": "execute_result"
    }
   ],
   "source": [
    "\"\"\"n = int(input(\"Bir tamsayı girin: \"))\n",
    "if n < 2:\n",
    "    print(f\"{n} bir asal sayı değildir.\")\n",
    "else:\n",
    "    k = 2           \n",
    "    asal_mi = True   \n",
    "    while k < n:\n",
    "        if n % k == 0: \n",
    "            asal_mi = False\n",
    "            break\n",
    "        k += 1        \n",
    "    if asal_mi:\n",
    "        print(f\"{n} bir asal sayıdır.\")\n",
    "    else:\n",
    "        print(f\"{n} bir asal sayı değildir.\")\"\"\""
   ]
  },
  {
   "cell_type": "code",
   "execution_count": 52,
   "id": "86838007",
   "metadata": {
    "execution": {
     "iopub.execute_input": "2025-05-24T12:46:22.254552Z",
     "iopub.status.busy": "2025-05-24T12:46:22.253994Z",
     "iopub.status.idle": "2025-05-24T12:46:22.261761Z",
     "shell.execute_reply": "2025-05-24T12:46:22.260519Z"
    },
    "papermill": {
     "duration": 0.033018,
     "end_time": "2025-05-24T12:46:22.264852",
     "exception": false,
     "start_time": "2025-05-24T12:46:22.231834",
     "status": "completed"
    },
    "tags": []
   },
   "outputs": [
    {
     "name": "stdout",
     "output_type": "stream",
     "text": [
      "Merhaba Beyza hanim hosgeldiniz.\n",
      "Merhaba Zeynep hanim hosgeldiniz.\n",
      "Merhaba Nurhayat hanim hosgeldiniz.\n",
      "Merhaba İrem hanim hosgeldiniz.\n"
     ]
    }
   ],
   "source": [
    "personel_listesi = [\"Beyza\",\"Zeynep\",\"Nurhayat\",\"İrem\"]\n",
    "\n",
    "for i in personel_listesi:\n",
    "    print(f\"Merhaba {i} hanim hosgeldiniz.\")"
   ]
  },
  {
   "cell_type": "code",
   "execution_count": 53,
   "id": "04b121e2",
   "metadata": {
    "execution": {
     "iopub.execute_input": "2025-05-24T12:46:22.322132Z",
     "iopub.status.busy": "2025-05-24T12:46:22.321496Z",
     "iopub.status.idle": "2025-05-24T12:46:22.328088Z",
     "shell.execute_reply": "2025-05-24T12:46:22.326942Z"
    },
    "papermill": {
     "duration": 0.033931,
     "end_time": "2025-05-24T12:46:22.329592",
     "exception": false,
     "start_time": "2025-05-24T12:46:22.295661",
     "status": "completed"
    },
    "tags": []
   },
   "outputs": [
    {
     "name": "stdout",
     "output_type": "stream",
     "text": [
      "1\n",
      "3\n",
      "5\n",
      "7\n",
      "9\n"
     ]
    }
   ],
   "source": [
    "for i in range(1,10,2):\n",
    "    print(i)"
   ]
  },
  {
   "cell_type": "code",
   "execution_count": 54,
   "id": "d9549298",
   "metadata": {
    "execution": {
     "iopub.execute_input": "2025-05-24T12:46:22.370190Z",
     "iopub.status.busy": "2025-05-24T12:46:22.369809Z",
     "iopub.status.idle": "2025-05-24T12:46:22.375968Z",
     "shell.execute_reply": "2025-05-24T12:46:22.375024Z"
    },
    "papermill": {
     "duration": 0.026749,
     "end_time": "2025-05-24T12:46:22.377677",
     "exception": false,
     "start_time": "2025-05-24T12:46:22.350928",
     "status": "completed"
    },
    "tags": []
   },
   "outputs": [
    {
     "data": {
      "text/plain": [
       "'sayi1 = int(input(\"Lutfen 1. sayiyi giriniz : \"))\\nsayi2 = int(input(\"Lutfen 2. sayiyi giriniz : \"))\\n\\nkucuk_sayi = min(sayi1,sayi2)\\nbuyuk_sayi = max(sayi1,sayi2)\\ntoplam = 0\\n\\nfor i in range(kucuk_sayi + 1,buyuk_sayi):\\n    toplam += i\\n\\nprint(f\"{sayi1} ile {sayi2} arasindaki sayilarin toplami : {toplam}\")'"
      ]
     },
     "execution_count": 54,
     "metadata": {},
     "output_type": "execute_result"
    }
   ],
   "source": [
    "\"\"\"sayi1 = int(input(\"Lutfen 1. sayiyi giriniz : \"))\n",
    "sayi2 = int(input(\"Lutfen 2. sayiyi giriniz : \"))\n",
    "\n",
    "kucuk_sayi = min(sayi1,sayi2)\n",
    "buyuk_sayi = max(sayi1,sayi2)\n",
    "toplam = 0\n",
    "\n",
    "for i in range(kucuk_sayi + 1,buyuk_sayi):\n",
    "    toplam += i\n",
    "\n",
    "print(f\"{sayi1} ile {sayi2} arasindaki sayilarin toplami : {toplam}\")\"\"\""
   ]
  },
  {
   "cell_type": "code",
   "execution_count": 55,
   "id": "8183194b",
   "metadata": {
    "execution": {
     "iopub.execute_input": "2025-05-24T12:46:22.414672Z",
     "iopub.status.busy": "2025-05-24T12:46:22.414201Z",
     "iopub.status.idle": "2025-05-24T12:46:22.420387Z",
     "shell.execute_reply": "2025-05-24T12:46:22.419560Z"
    },
    "papermill": {
     "duration": 0.026102,
     "end_time": "2025-05-24T12:46:22.421781",
     "exception": false,
     "start_time": "2025-05-24T12:46:22.395679",
     "status": "completed"
    },
    "tags": []
   },
   "outputs": [
    {
     "data": {
      "text/plain": [
       "'sayi = int(input(\"Lutfen faktoriyeli alinacak sayiyi giriniz : \"))\\nfakt = 1\\n\\nfor i in range(1,sayi+1):\\n    fakt *= i\\n\\nprint(f\"{sayi}! = {fakt}\")'"
      ]
     },
     "execution_count": 55,
     "metadata": {},
     "output_type": "execute_result"
    }
   ],
   "source": [
    "\"\"\"sayi = int(input(\"Lutfen faktoriyeli alinacak sayiyi giriniz : \"))\n",
    "fakt = 1\n",
    "\n",
    "for i in range(1,sayi+1):\n",
    "    fakt *= i\n",
    "\n",
    "print(f\"{sayi}! = {fakt}\")\"\"\""
   ]
  },
  {
   "cell_type": "code",
   "execution_count": 56,
   "id": "3e10c321",
   "metadata": {
    "execution": {
     "iopub.execute_input": "2025-05-24T12:46:22.457914Z",
     "iopub.status.busy": "2025-05-24T12:46:22.457544Z",
     "iopub.status.idle": "2025-05-24T12:46:22.463613Z",
     "shell.execute_reply": "2025-05-24T12:46:22.462789Z"
    },
    "papermill": {
     "duration": 0.025915,
     "end_time": "2025-05-24T12:46:22.465075",
     "exception": false,
     "start_time": "2025-05-24T12:46:22.439160",
     "status": "completed"
    },
    "tags": []
   },
   "outputs": [
    {
     "data": {
      "text/plain": [
       "'satirsayisi = int(input(\"Lutfen kaç satırlık bir yarım piramit yapmak istediginizi giriniz : \"))\\n\\nfor i in range(1,satirsayisi+1):\\n    print(\"*\"*i)'"
      ]
     },
     "execution_count": 56,
     "metadata": {},
     "output_type": "execute_result"
    }
   ],
   "source": [
    "\"\"\"satirsayisi = int(input(\"Lutfen kaç satırlık bir yarım piramit yapmak istediginizi giriniz : \"))\n",
    "\n",
    "for i in range(1,satirsayisi+1):\n",
    "    print(\"*\"*i)\"\"\""
   ]
  },
  {
   "cell_type": "code",
   "execution_count": 57,
   "id": "846172fb",
   "metadata": {
    "execution": {
     "iopub.execute_input": "2025-05-24T12:46:22.501989Z",
     "iopub.status.busy": "2025-05-24T12:46:22.501597Z",
     "iopub.status.idle": "2025-05-24T12:46:22.508066Z",
     "shell.execute_reply": "2025-05-24T12:46:22.506833Z"
    },
    "papermill": {
     "duration": 0.027092,
     "end_time": "2025-05-24T12:46:22.509705",
     "exception": false,
     "start_time": "2025-05-24T12:46:22.482613",
     "status": "completed"
    },
    "tags": []
   },
   "outputs": [
    {
     "data": {
      "text/plain": [
       "'satirsayisi = int(input(\"Lutfen kaç satırlık bir yarım piramit yapmak istediginizi giriniz : \"))\\n\\nfor i in range(1,satirsayisi+1):\\n    print(\" \"*(satirsayisi-i) + \"*\"*i)'"
      ]
     },
     "execution_count": 57,
     "metadata": {},
     "output_type": "execute_result"
    }
   ],
   "source": [
    "\"\"\"satirsayisi = int(input(\"Lutfen kaç satırlık bir yarım piramit yapmak istediginizi giriniz : \"))\n",
    "\n",
    "for i in range(1,satirsayisi+1):\n",
    "    print(\" \"*(satirsayisi-i) + \"*\"*i)\"\"\""
   ]
  },
  {
   "cell_type": "code",
   "execution_count": 58,
   "id": "a63d8ac1",
   "metadata": {
    "execution": {
     "iopub.execute_input": "2025-05-24T12:46:22.547281Z",
     "iopub.status.busy": "2025-05-24T12:46:22.546862Z",
     "iopub.status.idle": "2025-05-24T12:46:22.553217Z",
     "shell.execute_reply": "2025-05-24T12:46:22.552127Z"
    },
    "papermill": {
     "duration": 0.027323,
     "end_time": "2025-05-24T12:46:22.554860",
     "exception": false,
     "start_time": "2025-05-24T12:46:22.527537",
     "status": "completed"
    },
    "tags": []
   },
   "outputs": [
    {
     "data": {
      "text/plain": [
       "'n = int(input(\"Lutfen piramite dair boyut bilgisini giriniz : \"))\\n\\nbosluk = 2 * n - 2\\nfor i in range(0, n):\\n    print(\" \" * bosluk, end=\"\")\\n    print(\"* \" * (i + 1))\\n    bosluk -= 2\\n\\nbosluk = 2\\nfor i in range(n - 1, -1, -1):\\n    print(\" \" * bosluk, end=\"\")\\n    print(\"* \" * (i))\\n    bosluk += 2'"
      ]
     },
     "execution_count": 58,
     "metadata": {},
     "output_type": "execute_result"
    }
   ],
   "source": [
    "\"\"\"n = int(input(\"Lutfen piramite dair boyut bilgisini giriniz : \"))\n",
    "\n",
    "bosluk = 2 * n - 2\n",
    "for i in range(0, n):\n",
    "    print(\" \" * bosluk, end=\"\")\n",
    "    print(\"* \" * (i + 1))\n",
    "    bosluk -= 2\n",
    "\n",
    "bosluk = 2\n",
    "for i in range(n - 1, -1, -1):\n",
    "    print(\" \" * bosluk, end=\"\")\n",
    "    print(\"* \" * (i))\n",
    "    bosluk += 2\"\"\""
   ]
  },
  {
   "cell_type": "markdown",
   "id": "0c41ac2d",
   "metadata": {
    "papermill": {
     "duration": 0.017095,
     "end_time": "2025-05-24T12:46:22.589981",
     "exception": false,
     "start_time": "2025-05-24T12:46:22.572886",
     "status": "completed"
    },
    "tags": []
   },
   "source": [
    "1. Senaryo Özeti\n",
    "Okulunuzdaki genç girişimciler, kantinin yanında küçük bir online mini-market açtı. Gün içinde öğrenciler telefonlarından markete sipariş veriyor. Marketin;\n",
    "\n",
    "- Ürün kataloğu (fiyat + stok),\n",
    "\n",
    "- Gelen siparişler listesi,\n",
    "\n",
    "- İndirim & kargo kuralları\n",
    "\n",
    "gibi bilgileri var. Göreviniz, bu siparişleri işleyip gün sonunda raporlamak.\n",
    "\n"
   ]
  },
  {
   "cell_type": "markdown",
   "id": "31613d7d",
   "metadata": {
    "papermill": {
     "duration": 0.017756,
     "end_time": "2025-05-24T12:46:22.625391",
     "exception": false,
     "start_time": "2025-05-24T12:46:22.607635",
     "status": "completed"
    },
    "tags": []
   },
   "source": [
    "**Ara Toplam**\n",
    "\n",
    "- Her sepet kaleminin tutarı = fiyat × adet.\n",
    "\n",
    "- Siparişin ara toplamı tüm kalemlerin toplamı.\n",
    "\n",
    "**Stok Kontrolü**\n",
    "\n",
    "- Stok < İstenen Adet → Verebildiği kadar adet gönder.\n",
    "\n",
    "- Stok 0 ise ürün kalemi tamamen atlanır.\n",
    "\n",
    "- Gönderilen miktar kadar stok düşülür.\n",
    "\n",
    "**İndirim**\n",
    "\n",
    "- 500 TL ve üzeri ara toplamlarda %10 indirim.\n",
    "\n",
    "**Kargo**\n",
    "\n",
    "- İndirim alan siparişlerde kargo ücretsiz.\n",
    "\n",
    "- Altındaki siparişlere sabit 50 TL kargo ekle.\n",
    "\n",
    "**Çıktı Formatı**\n",
    "\n",
    "- Her müşteri için liste: hangi üründen kaç adet, kalem tutarı.\n",
    "\n",
    "- Ara toplam, uygulanan indirim (varsa), kargo (varsa), “Ödenecek Tutar”.\n",
    "\n",
    "- Gün sonu: kalan her ürünün stok miktarı."
   ]
  },
  {
   "cell_type": "markdown",
   "id": "12de1df1",
   "metadata": {
    "papermill": {
     "duration": 0.017211,
     "end_time": "2025-05-24T12:46:22.660385",
     "exception": false,
     "start_time": "2025-05-24T12:46:22.643174",
     "status": "completed"
    },
    "tags": []
   },
   "source": [
    "📦 Ayse Yilmaz siparişi:\n",
    "\n",
    "*  • sut    x4  →   80 ₺\n",
    "*  • ekmek  x2  →   20 ₺\n",
    "*  • kahve  x1  →  110 ₺\n",
    "  Ara toplam : 210.00 ₺\n",
    "  Kargo      :  50.00 ₺\n",
    "  Ödenecek   : 260.00 ₺\n",
    "\n",
    "📦 Mehmet Arslan siparişi:\n",
    "*  • peynir x3  →  270 ₺\n",
    "*  • zeytin x2  →  140 ₺\n",
    "  Ara toplam : 410.00 ₺\n",
    "  Kargo      :  50.00 ₺\n",
    "  Ödenecek   : 460.00 ₺\n",
    "\n",
    "📦 Ece Demir siparişi:\n",
    "*  • sut    x10 →  200 ₺\n",
    "*  • ekmek   x5 →   50 ₺\n",
    "*  • peynir  x1 →   90 ₺\n",
    "*  • zeytin  x1 →   70 ₺\n",
    "  Ara toplam : 410.00 ₺\n",
    "  Kargo      :  50.00 ₺\n",
    "  Ödenecek   : 460.00 ₺\n",
    "\n",
    "🗂️  Kalan Stoklar\n",
    "*  Sut    : 36\n",
    "*  Ekmek  : 33\n",
    "*  Peynir : 21\n",
    "*  Zeytin : 25\n",
    "*  Kahve  : 14\n"
   ]
  },
  {
   "cell_type": "code",
   "execution_count": 59,
   "id": "50b407fe",
   "metadata": {
    "execution": {
     "iopub.execute_input": "2025-05-24T12:46:22.697073Z",
     "iopub.status.busy": "2025-05-24T12:46:22.696687Z",
     "iopub.status.idle": "2025-05-24T12:46:22.711430Z",
     "shell.execute_reply": "2025-05-24T12:46:22.710207Z"
    },
    "papermill": {
     "duration": 0.035334,
     "end_time": "2025-05-24T12:46:22.713217",
     "exception": false,
     "start_time": "2025-05-24T12:46:22.677883",
     "status": "completed"
    },
    "tags": []
   },
   "outputs": [
    {
     "name": "stdout",
     "output_type": "stream",
     "text": [
      "\n",
      "📦 Ayşe Yılmaz siparişi:\n",
      "  • süt     x 4  →    80 ₺\n",
      "  • ekmek   x 2  →    20 ₺\n",
      "  • kahve   x 1  →   110 ₺\n",
      "  Ara toplam : 210.00 ₺\n",
      "  Kargo      :   50.00 ₺\n",
      "  Ödenecek   : 260.00 ₺\n",
      "\n",
      "📦 Mehmet Arslan siparişi:\n",
      "  • peynir  x 3  →   270 ₺\n",
      "  • zeytin  x 2  →   140 ₺\n",
      "  Ara toplam : 410.00 ₺\n",
      "  Kargo      :   50.00 ₺\n",
      "  Ödenecek   : 460.00 ₺\n",
      "\n",
      "📦 Ece Demir siparişi:\n",
      "  • süt     x10  →   200 ₺\n",
      "  • ekmek   x 5  →    50 ₺\n",
      "  • peynir  x 1  →    90 ₺\n",
      "  • zeytin  x 1  →    70 ₺\n",
      "  Ara toplam : 410.00 ₺\n",
      "  Kargo      :   50.00 ₺\n",
      "  Ödenecek   : 460.00 ₺\n",
      "\n",
      "🗂️  Kalan Stoklar:\n",
      "  Süt    : 36 adet\n",
      "  Ekmek  : 33 adet\n",
      "  Peynir : 21 adet\n",
      "  Zeytin : 27 adet\n",
      "  Kahve  : 14 adet\n"
     ]
    }
   ],
   "source": [
    "# Ürün kataloğu: {ürün_adı: {\"fiyat\": ₺, \"stok\": adet}}\n",
    "urunler = {\n",
    "    \"süt\":       {\"fiyat\": 20,  \"stok\": 50},\n",
    "    \"ekmek\":     {\"fiyat\": 10,  \"stok\": 40},\n",
    "    \"peynir\":    {\"fiyat\": 90,  \"stok\": 25},\n",
    "    \"zeytin\":    {\"fiyat\": 70,  \"stok\": 30},\n",
    "    \"kahve\":     {\"fiyat\": 110, \"stok\": 15},\n",
    "}\n",
    "\n",
    "# Gün içinde alınan siparişler\n",
    "siparisler = [\n",
    "    {\n",
    "        \"musteri\": \"Ayşe Yılmaz\",\n",
    "        \"sepet\": [(\"süt\", 4), (\"ekmek\", 2), (\"kahve\", 1)]\n",
    "    },\n",
    "    {\n",
    "        \"musteri\": \"Mehmet Arslan\",\n",
    "        \"sepet\": [(\"peynir\", 3), (\"zeytin\", 2)]\n",
    "    },\n",
    "    {\n",
    "        \"musteri\": \"Ece Demir\",\n",
    "        \"sepet\": [(\"süt\", 10), (\"ekmek\", 5), (\"peynir\", 1), (\"zeytin\", 1)]\n",
    "    },\n",
    "]\n",
    "\n",
    "INDIRIM_ESIK  = 500   # ₺\n",
    "INDIRIM_ORAN  = 0.10  # %10\n",
    "KARGO_UCRETI  = 50    # sabit ₺ (500₺ altı siparişlerde)\n",
    "\n",
    "for siparis in siparisler:\n",
    "    musteri   = siparis[\"musteri\"]\n",
    "    sepet     = siparis[\"sepet\"]\n",
    "    ara_toplam = 0\n",
    "\n",
    "    print(f\"\\n📦 {musteri} siparişi:\")\n",
    "\n",
    "    # Sepetteki her ürünü işlemeye başla\n",
    "    for urun_adi, adet in sepet:\n",
    "        if urun_adi not in urunler:\n",
    "            print(f\"  ❌ {urun_adi!r} katalogda bulunamadı, atlanıyor.\")\n",
    "            continue\n",
    "\n",
    "        stok_bilgi = urunler[urun_adi]\n",
    "        mevcut_stok = stok_bilgi[\"stok\"]\n",
    "\n",
    "        # Stok yeterli mi?\n",
    "        if mevcut_stok < adet:\n",
    "            print(f\"  ⚠️  {urun_adi} stokta {mevcut_stok} adet var, {adet} yerine {mevcut_stok} gönderiliyor.\")\n",
    "            adet = mevcut_stok  # elde ne varsa gönder\n",
    "        if adet == 0:\n",
    "            continue  # bu ürün tamamen tükendi\n",
    "\n",
    "        # Ara toplamı güncelle\n",
    "        tutar = stok_bilgi[\"fiyat\"] * adet\n",
    "        ara_toplam += tutar\n",
    "        stok_bilgi[\"stok\"] -= adet  # Stok düş\n",
    "\n",
    "        print(f\"  • {urun_adi:7} x{adet:2}  →  {tutar:>4} ₺\")\n",
    "\n",
    "    # İndirim ve kargo hesabı\n",
    "    if ara_toplam >= INDIRIM_ESIK:\n",
    "        indirim = ara_toplam * INDIRIM_ORAN\n",
    "\n",
    "    else:\n",
    "        indirim = 0\n",
    "    indirim = ara_toplam * INDIRIM_ORAN if ara_toplam >= INDIRIM_ESIK else 0\n",
    "    kargo   = 0 if ara_toplam >= INDIRIM_ESIK else KARGO_UCRETI\n",
    "    toplam  = ara_toplam - indirim + kargo\n",
    "\n",
    "    print(f\"  Ara toplam : {ara_toplam:>6.2f} ₺\")\n",
    "    if indirim:\n",
    "        print(f\"  İndirim    : -{indirim:>6.2f} ₺ (>%{INDIRIM_ORAN*100:.0f})\")\n",
    "    if kargo:\n",
    "        print(f\"  Kargo      :  {kargo:>6.2f} ₺\")\n",
    "    print(f\"  Ödenecek   : {toplam:>6.2f} ₺\")\n",
    "\n",
    "# Gün sonu stok raporu\n",
    "print(\"\\n🗂️  Kalan Stoklar:\")\n",
    "for urun, bilgi in urunler.items():\n",
    "    print(f\"  {urun.capitalize():7}: {bilgi['stok']} adet\")\n"
   ]
  },
  {
   "cell_type": "code",
   "execution_count": 60,
   "id": "2d4f2f2d",
   "metadata": {
    "execution": {
     "iopub.execute_input": "2025-05-24T12:46:22.752586Z",
     "iopub.status.busy": "2025-05-24T12:46:22.751753Z",
     "iopub.status.idle": "2025-05-24T12:46:22.758047Z",
     "shell.execute_reply": "2025-05-24T12:46:22.757056Z"
    },
    "papermill": {
     "duration": 0.026924,
     "end_time": "2025-05-24T12:46:22.759493",
     "exception": false,
     "start_time": "2025-05-24T12:46:22.732569",
     "status": "completed"
    },
    "tags": []
   },
   "outputs": [
    {
     "data": {
      "text/plain": [
       "'def toplama():\\n    sayi1 = int(input(\"Lutfen 1. sayiyi giriniz : \"))\\n    sayi2 = int(input(\"Lutfen 2. sayiyi giriniz : \"))\\n    toplam = sayi1 + sayi2\\n    print(f\"{sayi1} + {sayi2} = {toplam}\")'"
      ]
     },
     "execution_count": 60,
     "metadata": {},
     "output_type": "execute_result"
    }
   ],
   "source": [
    "\"\"\"def toplama():\n",
    "    sayi1 = int(input(\"Lutfen 1. sayiyi giriniz : \"))\n",
    "    sayi2 = int(input(\"Lutfen 2. sayiyi giriniz : \"))\n",
    "    toplam = sayi1 + sayi2\n",
    "    print(f\"{sayi1} + {sayi2} = {toplam}\")\"\"\""
   ]
  },
  {
   "cell_type": "code",
   "execution_count": 61,
   "id": "416cca66",
   "metadata": {
    "execution": {
     "iopub.execute_input": "2025-05-24T12:46:22.797418Z",
     "iopub.status.busy": "2025-05-24T12:46:22.797026Z",
     "iopub.status.idle": "2025-05-24T12:46:22.801584Z",
     "shell.execute_reply": "2025-05-24T12:46:22.800611Z"
    },
    "papermill": {
     "duration": 0.025365,
     "end_time": "2025-05-24T12:46:22.803244",
     "exception": false,
     "start_time": "2025-05-24T12:46:22.777879",
     "status": "completed"
    },
    "tags": []
   },
   "outputs": [],
   "source": [
    "#toplama()"
   ]
  },
  {
   "cell_type": "code",
   "execution_count": 62,
   "id": "d4b825e4",
   "metadata": {
    "execution": {
     "iopub.execute_input": "2025-05-24T12:46:22.840415Z",
     "iopub.status.busy": "2025-05-24T12:46:22.840056Z",
     "iopub.status.idle": "2025-05-24T12:46:22.845662Z",
     "shell.execute_reply": "2025-05-24T12:46:22.844785Z"
    },
    "papermill": {
     "duration": 0.02588,
     "end_time": "2025-05-24T12:46:22.847183",
     "exception": false,
     "start_time": "2025-05-24T12:46:22.821303",
     "status": "completed"
    },
    "tags": []
   },
   "outputs": [
    {
     "data": {
      "text/plain": [
       "'def yas_hesapla():\\n    dogum_yili = int(input(\"Lutfen dogum yilinizi giriniz : \"))\\n    yas = 2025 - dogum_yili\\n    print(\"{} yasindasiniz.\".format(yas))\\n\\nyas_hesapla()'"
      ]
     },
     "execution_count": 62,
     "metadata": {},
     "output_type": "execute_result"
    }
   ],
   "source": [
    "\"\"\"def yas_hesapla():\n",
    "    dogum_yili = int(input(\"Lutfen dogum yilinizi giriniz : \"))\n",
    "    yas = 2025 - dogum_yili\n",
    "    print(\"{} yasindasiniz.\".format(yas))\n",
    "\n",
    "yas_hesapla()\"\"\""
   ]
  },
  {
   "cell_type": "code",
   "execution_count": 63,
   "id": "6844fbe3",
   "metadata": {
    "execution": {
     "iopub.execute_input": "2025-05-24T12:46:22.884817Z",
     "iopub.status.busy": "2025-05-24T12:46:22.884426Z",
     "iopub.status.idle": "2025-05-24T12:46:22.889406Z",
     "shell.execute_reply": "2025-05-24T12:46:22.888564Z"
    },
    "papermill": {
     "duration": 0.025443,
     "end_time": "2025-05-24T12:46:22.890910",
     "exception": false,
     "start_time": "2025-05-24T12:46:22.865467",
     "status": "completed"
    },
    "tags": []
   },
   "outputs": [],
   "source": [
    "def toplama(sayi1,sayi2):\n",
    "    toplam = sayi1 + sayi2\n",
    "    print(f\"{sayi1} + {sayi2} = {toplam}\")"
   ]
  },
  {
   "cell_type": "code",
   "execution_count": 64,
   "id": "cd7c473e",
   "metadata": {
    "execution": {
     "iopub.execute_input": "2025-05-24T12:46:22.929113Z",
     "iopub.status.busy": "2025-05-24T12:46:22.928228Z",
     "iopub.status.idle": "2025-05-24T12:46:22.933697Z",
     "shell.execute_reply": "2025-05-24T12:46:22.932656Z"
    },
    "papermill": {
     "duration": 0.026502,
     "end_time": "2025-05-24T12:46:22.935505",
     "exception": false,
     "start_time": "2025-05-24T12:46:22.909003",
     "status": "completed"
    },
    "tags": []
   },
   "outputs": [
    {
     "name": "stdout",
     "output_type": "stream",
     "text": [
      "5 + 10 = 15\n"
     ]
    }
   ],
   "source": [
    "x = 5\n",
    "y = 10\n",
    "\n",
    "toplama(x,y)"
   ]
  },
  {
   "cell_type": "code",
   "execution_count": 65,
   "id": "4e16a9d4",
   "metadata": {
    "execution": {
     "iopub.execute_input": "2025-05-24T12:46:22.973238Z",
     "iopub.status.busy": "2025-05-24T12:46:22.972882Z",
     "iopub.status.idle": "2025-05-24T12:46:22.978385Z",
     "shell.execute_reply": "2025-05-24T12:46:22.977632Z"
    },
    "papermill": {
     "duration": 0.026195,
     "end_time": "2025-05-24T12:46:22.979911",
     "exception": false,
     "start_time": "2025-05-24T12:46:22.953716",
     "status": "completed"
    },
    "tags": []
   },
   "outputs": [],
   "source": [
    "def ortalama_hesapla(sayi1,sayi2):\n",
    "    kucuk_sayi = min(sayi1,sayi2)\n",
    "    buyuk_sayi = max(sayi1,sayi2)\n",
    "    araliktaki_sayilar = []\n",
    "    toplam = 0\n",
    "    for i in range(kucuk_sayi + 1,buyuk_sayi):\n",
    "        araliktaki_sayilar.append(i)\n",
    "        toplam += i\n",
    "    print(f\"Girmis oldugunuz sayilarin ortalamasi : \",toplam/len(araliktaki_sayilar))\n",
    "    print(araliktaki_sayilar)\n",
    "\n",
    "#ortalama_hesapla(1,5) + 5"
   ]
  },
  {
   "cell_type": "code",
   "execution_count": 66,
   "id": "f29c1842",
   "metadata": {
    "execution": {
     "iopub.execute_input": "2025-05-24T12:46:23.020894Z",
     "iopub.status.busy": "2025-05-24T12:46:23.019593Z",
     "iopub.status.idle": "2025-05-24T12:46:23.026779Z",
     "shell.execute_reply": "2025-05-24T12:46:23.025889Z"
    },
    "papermill": {
     "duration": 0.029832,
     "end_time": "2025-05-24T12:46:23.028187",
     "exception": false,
     "start_time": "2025-05-24T12:46:22.998355",
     "status": "completed"
    },
    "tags": []
   },
   "outputs": [
    {
     "name": "stdout",
     "output_type": "stream",
     "text": [
      "11.0\n"
     ]
    }
   ],
   "source": [
    "def ortalama_hesapla(sayi1,sayi2):\n",
    "    kucuk_sayi = min(sayi1,sayi2)\n",
    "    buyuk_sayi = max(sayi1,sayi2)\n",
    "    araliktaki_sayilar = []\n",
    "    toplam = 0\n",
    "    for i in range(kucuk_sayi + 1,buyuk_sayi):\n",
    "        araliktaki_sayilar.append(i)\n",
    "        toplam += i\n",
    "    #print(f\"Girmis oldugunuz sayilarin ortalamasi : \",\n",
    "    return toplam/len(araliktaki_sayilar)\n",
    "\n",
    "a = ortalama_hesapla(1,5)\n",
    "print(a + 8)"
   ]
  },
  {
   "cell_type": "code",
   "execution_count": 67,
   "id": "f7c4dff1",
   "metadata": {
    "execution": {
     "iopub.execute_input": "2025-05-24T12:46:23.068299Z",
     "iopub.status.busy": "2025-05-24T12:46:23.067953Z",
     "iopub.status.idle": "2025-05-24T12:46:23.074180Z",
     "shell.execute_reply": "2025-05-24T12:46:23.073190Z"
    },
    "papermill": {
     "duration": 0.027971,
     "end_time": "2025-05-24T12:46:23.075858",
     "exception": false,
     "start_time": "2025-05-24T12:46:23.047887",
     "status": "completed"
    },
    "tags": []
   },
   "outputs": [
    {
     "name": "stdout",
     "output_type": "stream",
     "text": [
      "[2, 3]\n"
     ]
    }
   ],
   "source": [
    "def araliktakiasalsayilarfonksiyonu(sayi1,sayi2):\n",
    "    kucuk_sayi = min(sayi1,sayi2)\n",
    "    buyuk_sayi = max(sayi1,sayi2)\n",
    "    araliktaki_asal_sayilar = []\n",
    "    for i in range(max(2,kucuk_sayi+1),buyuk_sayi):\n",
    "        for j in range(2,int(i**0.5) + 1):\n",
    "            if i % j == 0:\n",
    "                break\n",
    "\n",
    "        else:\n",
    "            araliktaki_asal_sayilar.append(i)\n",
    "    #print(f\"Girmis oldugunuz sayilarin ortalamasi : \",\n",
    "    return araliktaki_asal_sayilar\n",
    "\n",
    "\n",
    "print(araliktakiasalsayilarfonksiyonu(1,5))"
   ]
  },
  {
   "cell_type": "code",
   "execution_count": 68,
   "id": "ea751187",
   "metadata": {
    "execution": {
     "iopub.execute_input": "2025-05-24T12:46:23.113918Z",
     "iopub.status.busy": "2025-05-24T12:46:23.113504Z",
     "iopub.status.idle": "2025-05-24T12:46:23.119381Z",
     "shell.execute_reply": "2025-05-24T12:46:23.118325Z"
    },
    "papermill": {
     "duration": 0.026485,
     "end_time": "2025-05-24T12:46:23.120858",
     "exception": false,
     "start_time": "2025-05-24T12:46:23.094373",
     "status": "completed"
    },
    "tags": []
   },
   "outputs": [
    {
     "name": "stdout",
     "output_type": "stream",
     "text": [
      " unvanindaki calisanin kabiliyetleri []\n",
      "[]\n",
      "\n"
     ]
    }
   ],
   "source": [
    "class calisan():\n",
    "    kabiliyetler = []\n",
    "    unvan = ''\n",
    "    print(f\"{unvan} unvanindaki calisanin kabiliyetleri {kabiliyetler}\")\n",
    "\n",
    "\n",
    "print(calisan.kabiliyetler)\n",
    "print(calisan.unvan)"
   ]
  },
  {
   "cell_type": "code",
   "execution_count": 69,
   "id": "34fb0997",
   "metadata": {
    "execution": {
     "iopub.execute_input": "2025-05-24T12:46:23.159248Z",
     "iopub.status.busy": "2025-05-24T12:46:23.158871Z",
     "iopub.status.idle": "2025-05-24T12:46:23.164580Z",
     "shell.execute_reply": "2025-05-24T12:46:23.163585Z"
    },
    "papermill": {
     "duration": 0.027084,
     "end_time": "2025-05-24T12:46:23.166095",
     "exception": false,
     "start_time": "2025-05-24T12:46:23.139011",
     "status": "completed"
    },
    "tags": []
   },
   "outputs": [
    {
     "name": "stdout",
     "output_type": "stream",
     "text": [
      "Uzman unvanindaki calisanin kabiliyetleri ['Python', 'Web Scraping']\n",
      "['Python', 'Web Scraping']\n",
      "Uzman\n"
     ]
    }
   ],
   "source": [
    "class calisan():\n",
    "    kabiliyetler = [\"Python\",\"Web Scraping\"]\n",
    "    unvan = 'Uzman'\n",
    "    print(f\"{unvan} unvanindaki calisanin kabiliyetleri {kabiliyetler}\")\n",
    "\n",
    "\n",
    "print(calisan.kabiliyetler)\n",
    "print(calisan.unvan)"
   ]
  },
  {
   "cell_type": "code",
   "execution_count": 70,
   "id": "4a6a5752",
   "metadata": {
    "execution": {
     "iopub.execute_input": "2025-05-24T12:46:23.204566Z",
     "iopub.status.busy": "2025-05-24T12:46:23.204256Z",
     "iopub.status.idle": "2025-05-24T12:46:23.210642Z",
     "shell.execute_reply": "2025-05-24T12:46:23.209779Z"
    },
    "papermill": {
     "duration": 0.027922,
     "end_time": "2025-05-24T12:46:23.212335",
     "exception": false,
     "start_time": "2025-05-24T12:46:23.184413",
     "status": "completed"
    },
    "tags": []
   },
   "outputs": [],
   "source": [
    "class calisan():\n",
    "    sirket_adi = 'Albaraka'\n",
    "    adi = ''\n",
    "    soyadi = ''\n",
    "    id = ''\n",
    "    maas = None \n",
    "    kabiliyetler = []\n",
    "    unvan = ''\n",
    "\n",
    "\n",
    "calisan1 = calisan()\n",
    "calisan1.adi = 'Şükrü Yusuf'\n",
    "calisan1.soyadi = 'Kaya'\n",
    "calisan1.id = '00001'\n",
    "calisan1.maas = 1000000\n",
    "calisan1.kabiliyetler.append(\"AI Modelleri\")\n",
    "calisan1.unvan = 'AI Engineer'\n",
    "\n",
    "calisan2 = calisan()\n",
    "calisan2.adi = 'Sercan'\n",
    "calisan2.soyadi = 'Aydın'\n",
    "calisan2.id = '00002'\n",
    "calisan2.maas = 1500000\n",
    "calisan2.kabiliyetler.append(\"AI Siber Güvenliği\")\n",
    "calisan2.unvan = 'AI Cyber Security Engineer'"
   ]
  },
  {
   "cell_type": "code",
   "execution_count": 71,
   "id": "6f0d8ffa",
   "metadata": {
    "execution": {
     "iopub.execute_input": "2025-05-24T12:46:23.250067Z",
     "iopub.status.busy": "2025-05-24T12:46:23.249685Z",
     "iopub.status.idle": "2025-05-24T12:46:23.255509Z",
     "shell.execute_reply": "2025-05-24T12:46:23.254309Z"
    },
    "papermill": {
     "duration": 0.026489,
     "end_time": "2025-05-24T12:46:23.257257",
     "exception": false,
     "start_time": "2025-05-24T12:46:23.230768",
     "status": "completed"
    },
    "tags": []
   },
   "outputs": [
    {
     "name": "stdout",
     "output_type": "stream",
     "text": [
      "AI Cyber Security Engineer\n"
     ]
    }
   ],
   "source": [
    "print(calisan2.unvan)"
   ]
  },
  {
   "cell_type": "code",
   "execution_count": 72,
   "id": "da70888d",
   "metadata": {
    "execution": {
     "iopub.execute_input": "2025-05-24T12:46:23.297408Z",
     "iopub.status.busy": "2025-05-24T12:46:23.296717Z",
     "iopub.status.idle": "2025-05-24T12:46:23.302618Z",
     "shell.execute_reply": "2025-05-24T12:46:23.301472Z"
    },
    "papermill": {
     "duration": 0.027398,
     "end_time": "2025-05-24T12:46:23.304074",
     "exception": false,
     "start_time": "2025-05-24T12:46:23.276676",
     "status": "completed"
    },
    "tags": []
   },
   "outputs": [
    {
     "name": "stdout",
     "output_type": "stream",
     "text": [
      "AI Engineer\n"
     ]
    }
   ],
   "source": [
    "print(calisan1.unvan)"
   ]
  },
  {
   "cell_type": "code",
   "execution_count": 73,
   "id": "3f2915a4",
   "metadata": {
    "execution": {
     "iopub.execute_input": "2025-05-24T12:46:23.345522Z",
     "iopub.status.busy": "2025-05-24T12:46:23.344560Z",
     "iopub.status.idle": "2025-05-24T12:46:23.350495Z",
     "shell.execute_reply": "2025-05-24T12:46:23.349569Z"
    },
    "papermill": {
     "duration": 0.029102,
     "end_time": "2025-05-24T12:46:23.352080",
     "exception": false,
     "start_time": "2025-05-24T12:46:23.322978",
     "status": "completed"
    },
    "tags": []
   },
   "outputs": [
    {
     "name": "stdout",
     "output_type": "stream",
     "text": [
      "Sercan\n"
     ]
    }
   ],
   "source": [
    "print(calisan2.adi)"
   ]
  },
  {
   "cell_type": "code",
   "execution_count": 74,
   "id": "db3c33aa",
   "metadata": {
    "execution": {
     "iopub.execute_input": "2025-05-24T12:46:23.391517Z",
     "iopub.status.busy": "2025-05-24T12:46:23.391139Z",
     "iopub.status.idle": "2025-05-24T12:46:23.396867Z",
     "shell.execute_reply": "2025-05-24T12:46:23.395466Z"
    },
    "papermill": {
     "duration": 0.027404,
     "end_time": "2025-05-24T12:46:23.398504",
     "exception": false,
     "start_time": "2025-05-24T12:46:23.371100",
     "status": "completed"
    },
    "tags": []
   },
   "outputs": [
    {
     "name": "stdout",
     "output_type": "stream",
     "text": [
      "Şükrü Yusuf\n"
     ]
    }
   ],
   "source": [
    "print(calisan1.adi)"
   ]
  },
  {
   "cell_type": "code",
   "execution_count": 75,
   "id": "92f94ba9",
   "metadata": {
    "execution": {
     "iopub.execute_input": "2025-05-24T12:46:23.438907Z",
     "iopub.status.busy": "2025-05-24T12:46:23.438525Z",
     "iopub.status.idle": "2025-05-24T12:46:23.444009Z",
     "shell.execute_reply": "2025-05-24T12:46:23.443076Z"
    },
    "papermill": {
     "duration": 0.028106,
     "end_time": "2025-05-24T12:46:23.445308",
     "exception": false,
     "start_time": "2025-05-24T12:46:23.417202",
     "status": "completed"
    },
    "tags": []
   },
   "outputs": [
    {
     "name": "stdout",
     "output_type": "stream",
     "text": [
      "['AI Modelleri', 'AI Siber Güvenliği']\n"
     ]
    }
   ],
   "source": [
    "print(calisan1.kabiliyetler)"
   ]
  },
  {
   "cell_type": "code",
   "execution_count": 76,
   "id": "03abfe5f",
   "metadata": {
    "execution": {
     "iopub.execute_input": "2025-05-24T12:46:23.483634Z",
     "iopub.status.busy": "2025-05-24T12:46:23.483332Z",
     "iopub.status.idle": "2025-05-24T12:46:23.490668Z",
     "shell.execute_reply": "2025-05-24T12:46:23.489689Z"
    },
    "papermill": {
     "duration": 0.028689,
     "end_time": "2025-05-24T12:46:23.492320",
     "exception": false,
     "start_time": "2025-05-24T12:46:23.463631",
     "status": "completed"
    },
    "tags": []
   },
   "outputs": [],
   "source": [
    "class calisan():\n",
    "\n",
    "    personel_listesi = [] #Class Özelliği\n",
    "\n",
    "    def __init__(self):\n",
    "        self.adi = '' #Nesne Özelliği\n",
    "        self.soyadi = ''\n",
    "        self.id = ''\n",
    "        self.maas = None \n",
    "        self.kabiliyetler = []\n",
    "        self.unvan = ''\n",
    "\n",
    "\n",
    "calisan1 = calisan()\n",
    "calisan1.adi = 'Şükrü Yusuf'\n",
    "calisan1.soyadi = 'Kaya'\n",
    "calisan1.id = '00001'\n",
    "calisan1.maas = 1000000\n",
    "calisan1.kabiliyetler.append(\"AI Modelleri\")\n",
    "calisan1.unvan = 'AI Engineer'\n",
    "\n",
    "calisan2 = calisan()\n",
    "calisan2.adi = 'Sercan'\n",
    "calisan2.soyadi = 'Aydın'\n",
    "calisan2.id = '00002'\n",
    "calisan2.maas = 1500000\n",
    "calisan2.kabiliyetler.append(\"AI Siber Güvenliği\")\n",
    "calisan2.unvan = 'AI Cyber Security Engineer'\n",
    "\n",
    "calisan.personel_listesi.append(calisan1.adi)\n",
    "calisan.personel_listesi.append(calisan2.adi)"
   ]
  },
  {
   "cell_type": "code",
   "execution_count": 77,
   "id": "66f8c81d",
   "metadata": {
    "execution": {
     "iopub.execute_input": "2025-05-24T12:46:23.530943Z",
     "iopub.status.busy": "2025-05-24T12:46:23.530536Z",
     "iopub.status.idle": "2025-05-24T12:46:23.536059Z",
     "shell.execute_reply": "2025-05-24T12:46:23.535078Z"
    },
    "papermill": {
     "duration": 0.026662,
     "end_time": "2025-05-24T12:46:23.537526",
     "exception": false,
     "start_time": "2025-05-24T12:46:23.510864",
     "status": "completed"
    },
    "tags": []
   },
   "outputs": [
    {
     "name": "stdout",
     "output_type": "stream",
     "text": [
      "['AI Modelleri']\n"
     ]
    }
   ],
   "source": [
    "print(calisan1.kabiliyetler)"
   ]
  },
  {
   "cell_type": "code",
   "execution_count": 78,
   "id": "2f13119b",
   "metadata": {
    "execution": {
     "iopub.execute_input": "2025-05-24T12:46:23.578025Z",
     "iopub.status.busy": "2025-05-24T12:46:23.577598Z",
     "iopub.status.idle": "2025-05-24T12:46:23.583931Z",
     "shell.execute_reply": "2025-05-24T12:46:23.583071Z"
    },
    "papermill": {
     "duration": 0.028333,
     "end_time": "2025-05-24T12:46:23.585438",
     "exception": false,
     "start_time": "2025-05-24T12:46:23.557105",
     "status": "completed"
    },
    "tags": []
   },
   "outputs": [
    {
     "data": {
      "text/plain": [
       "['Şükrü Yusuf', 'Sercan']"
      ]
     },
     "execution_count": 78,
     "metadata": {},
     "output_type": "execute_result"
    }
   ],
   "source": [
    "calisan2.personel_listesi"
   ]
  },
  {
   "cell_type": "code",
   "execution_count": 79,
   "id": "2393224f",
   "metadata": {
    "execution": {
     "iopub.execute_input": "2025-05-24T12:46:23.627843Z",
     "iopub.status.busy": "2025-05-24T12:46:23.627456Z",
     "iopub.status.idle": "2025-05-24T12:46:23.632955Z",
     "shell.execute_reply": "2025-05-24T12:46:23.631788Z"
    },
    "papermill": {
     "duration": 0.029289,
     "end_time": "2025-05-24T12:46:23.634824",
     "exception": false,
     "start_time": "2025-05-24T12:46:23.605535",
     "status": "completed"
    },
    "tags": []
   },
   "outputs": [],
   "source": [
    "class Urun():\n",
    "    urun_listesi = []\n",
    "\n",
    "    def __init__(self):\n",
    "        self.ad = \"\"\n",
    "        self.kategori = \"\"\n",
    "        self.barkod = \"\"\n",
    "        self.fiyat = None\n",
    "        self.stok = 0"
   ]
  },
  {
   "cell_type": "code",
   "execution_count": 80,
   "id": "56d94324",
   "metadata": {
    "execution": {
     "iopub.execute_input": "2025-05-24T12:46:23.674770Z",
     "iopub.status.busy": "2025-05-24T12:46:23.674364Z",
     "iopub.status.idle": "2025-05-24T12:46:23.680430Z",
     "shell.execute_reply": "2025-05-24T12:46:23.679464Z"
    },
    "papermill": {
     "duration": 0.027658,
     "end_time": "2025-05-24T12:46:23.681963",
     "exception": false,
     "start_time": "2025-05-24T12:46:23.654305",
     "status": "completed"
    },
    "tags": []
   },
   "outputs": [],
   "source": [
    "urun1 = Urun()\n",
    "urun1.ad       = 'Türk Kahvesi'\n",
    "urun1.kategori = 'İçecek'\n",
    "urun1.barkod   = 'TK-001'\n",
    "urun1.fiyat    = 110\n",
    "urun1.stok     = 25\n",
    "urun1.urun_listesi.append(urun1.ad) \n",
    "\n",
    "urun2 = Urun()\n",
    "urun2.ad       = 'Tam Buğday Ekmek'\n",
    "urun2.kategori = 'Fırın'\n",
    "urun2.barkod   = 'TB-502'\n",
    "urun2.fiyat    = 15\n",
    "urun2.stok     = 60\n",
    "urun2.urun_listesi.append(urun2.ad)"
   ]
  },
  {
   "cell_type": "code",
   "execution_count": 81,
   "id": "eb2386ac",
   "metadata": {
    "execution": {
     "iopub.execute_input": "2025-05-24T12:46:23.720846Z",
     "iopub.status.busy": "2025-05-24T12:46:23.720442Z",
     "iopub.status.idle": "2025-05-24T12:46:23.727103Z",
     "shell.execute_reply": "2025-05-24T12:46:23.726032Z"
    },
    "papermill": {
     "duration": 0.027814,
     "end_time": "2025-05-24T12:46:23.728615",
     "exception": false,
     "start_time": "2025-05-24T12:46:23.700801",
     "status": "completed"
    },
    "tags": []
   },
   "outputs": [
    {
     "name": "stdout",
     "output_type": "stream",
     "text": [
      "['Türk Kahvesi', 'Tam Buğday Ekmek']\n",
      "-------------------------\n",
      "['Türk Kahvesi', 'Tam Buğday Ekmek']\n",
      "-------------------------\n",
      "['Türk Kahvesi', 'Tam Buğday Ekmek']\n",
      "-------------------------\n",
      "Türk Kahvesi\n",
      "-------------------------\n",
      "Tam Buğday Ekmek\n"
     ]
    }
   ],
   "source": [
    "print(Urun.urun_listesi)   # Sınıf üzerinden liste\n",
    "print(\"-------------------------\")\n",
    "print(urun1.urun_listesi)  # urun1 üzerinden referans\n",
    "print(\"-------------------------\")\n",
    "print(urun2.urun_listesi)  # urun2 üzerinden referans\n",
    "print(\"-------------------------\")\n",
    "print(urun1.ad)            # “Türk Kahvesi”\n",
    "print(\"-------------------------\")\n",
    "print(urun2.ad)            # “Tam Buğday Ekmek”"
   ]
  },
  {
   "cell_type": "code",
   "execution_count": 82,
   "id": "93a5fe5d",
   "metadata": {
    "execution": {
     "iopub.execute_input": "2025-05-24T12:46:23.768064Z",
     "iopub.status.busy": "2025-05-24T12:46:23.767636Z",
     "iopub.status.idle": "2025-05-24T12:46:23.773171Z",
     "shell.execute_reply": "2025-05-24T12:46:23.772080Z"
    },
    "papermill": {
     "duration": 0.02661,
     "end_time": "2025-05-24T12:46:23.774697",
     "exception": false,
     "start_time": "2025-05-24T12:46:23.748087",
     "status": "completed"
    },
    "tags": []
   },
   "outputs": [],
   "source": [
    "class Proje():                        \n",
    "\n",
    "    proje_listesi = []                \n",
    "\n",
    "    def __init__(self):                \n",
    "        self.adi      = ''             \n",
    "        self.kodu     = ''\n",
    "        self.sure     = 0              \n",
    "        self.butce    = None           \n",
    "        self.teknolojiler = []         \n",
    "        self.proje_yoneticisi = ''\n",
    "\n"
   ]
  },
  {
   "cell_type": "code",
   "execution_count": 83,
   "id": "c8a77c77",
   "metadata": {
    "execution": {
     "iopub.execute_input": "2025-05-24T12:46:23.813373Z",
     "iopub.status.busy": "2025-05-24T12:46:23.813045Z",
     "iopub.status.idle": "2025-05-24T12:46:23.819617Z",
     "shell.execute_reply": "2025-05-24T12:46:23.818845Z"
    },
    "papermill": {
     "duration": 0.027867,
     "end_time": "2025-05-24T12:46:23.821413",
     "exception": false,
     "start_time": "2025-05-24T12:46:23.793546",
     "status": "completed"
    },
    "tags": []
   },
   "outputs": [],
   "source": [
    "proje1 = Proje()\n",
    "proje1.adi      = 'Akıllı Stok Takip Sistemi'\n",
    "proje1.kodu     = 'ASTS-001'\n",
    "proje1.sure     = 150\n",
    "proje1.butce    = 750000\n",
    "proje1.teknolojiler.append('Python')\n",
    "proje1.teknolojiler.append('PostgreSQL')\n",
    "proje1.proje_yoneticisi = 'Şükrü Yusuf KAYA'\n",
    "proje1.proje_listesi.append(proje1.adi)   # Ortak listeye ekle\n",
    "\n",
    "\n",
    "proje2 = Proje()\n",
    "proje2.adi      = 'Gerçek-Zamanlı Veri Görselleştirme'\n",
    "proje2.kodu     = 'GZVG-002'\n",
    "proje2.sure     = 90\n",
    "proje2.butce    = 320_000\n",
    "proje2.teknolojiler.append('D3.js')\n",
    "proje2.proje_yoneticisi = 'Sercan ALDI'\n",
    "proje1.proje_listesi.append(proje2.adi)   # Ortak listeye ekle"
   ]
  },
  {
   "cell_type": "code",
   "execution_count": 84,
   "id": "55c2e6f1",
   "metadata": {
    "execution": {
     "iopub.execute_input": "2025-05-24T12:46:23.862004Z",
     "iopub.status.busy": "2025-05-24T12:46:23.861041Z",
     "iopub.status.idle": "2025-05-24T12:46:23.866544Z",
     "shell.execute_reply": "2025-05-24T12:46:23.865581Z"
    },
    "papermill": {
     "duration": 0.026729,
     "end_time": "2025-05-24T12:46:23.868067",
     "exception": false,
     "start_time": "2025-05-24T12:46:23.841338",
     "status": "completed"
    },
    "tags": []
   },
   "outputs": [
    {
     "name": "stdout",
     "output_type": "stream",
     "text": [
      "['Akıllı Stok Takip Sistemi', 'Gerçek-Zamanlı Veri Görselleştirme']\n",
      "['Akıllı Stok Takip Sistemi', 'Gerçek-Zamanlı Veri Görselleştirme']\n",
      "['Akıllı Stok Takip Sistemi', 'Gerçek-Zamanlı Veri Görselleştirme']\n",
      "Akıllı Stok Takip Sistemi\n",
      "Gerçek-Zamanlı Veri Görselleştirme\n"
     ]
    }
   ],
   "source": [
    "print(Proje.proje_listesi)   # Sınıf üzerinden erişim\n",
    "print(proje1.proje_listesi)  # proje1 üzerinden erişim\n",
    "print(proje2.proje_listesi)  # proje2 üzerinden erişim\n",
    "print(proje1.adi)            # \"Akıllı Stok Takip Sistemi\"\n",
    "print(proje2.adi)            # \"Gerçek-Zamanlı Veri Görselleştirme\""
   ]
  },
  {
   "cell_type": "code",
   "execution_count": 85,
   "id": "dcfd90c6",
   "metadata": {
    "execution": {
     "iopub.execute_input": "2025-05-24T12:46:23.907676Z",
     "iopub.status.busy": "2025-05-24T12:46:23.907306Z",
     "iopub.status.idle": "2025-05-24T12:46:23.914026Z",
     "shell.execute_reply": "2025-05-24T12:46:23.913185Z"
    },
    "papermill": {
     "duration": 0.027805,
     "end_time": "2025-05-24T12:46:23.915568",
     "exception": false,
     "start_time": "2025-05-24T12:46:23.887763",
     "status": "completed"
    },
    "tags": []
   },
   "outputs": [],
   "source": [
    "class calisan():\n",
    "\n",
    "    personel_listesi = [] #Class Özellikleri\n",
    "\n",
    "    def __init__(self,isim):\n",
    "        \n",
    "        self.isim = isim\n",
    "        self.yetenekler = []\n",
    "        self.personel_ekle()\n",
    "    \n",
    "    @classmethod\n",
    "    def personel_sayisini_goruntule(cls): #Sınıf Metodu\n",
    "        print(f\"Personel Sayiniz : {len(cls.personel_listesi)}\")\n",
    "\n",
    "    @classmethod\n",
    "    def personel_listesini_goruntule(cls):\n",
    "        print(\"--- Personel Listesi ---\\n\")\n",
    "        for personel in cls.personel_listesi:\n",
    "            print(personel)\n",
    "            \n",
    "    def personel_ekle(self): #Nesne Metodu\n",
    "        self.personel_listesi.append(self.isim)\n",
    "        print(f\"{self.isim} isimli personel personel listesine eklendi.\")\n",
    "    \n",
    "    def yetenek_ekle(self,yetenek):\n",
    "        self.yetenekler.append(yetenek)\n",
    "    \n",
    "    def yetenekleri_listele(self):\n",
    "        print(f\"{self.isim} isimli personelin yetenekleri : \")\n",
    "        for yetenek in self.yetenekler:\n",
    "            print(f\"- {yetenek}\")"
   ]
  },
  {
   "cell_type": "code",
   "execution_count": 86,
   "id": "6371326b",
   "metadata": {
    "execution": {
     "iopub.execute_input": "2025-05-24T12:46:23.955563Z",
     "iopub.status.busy": "2025-05-24T12:46:23.955193Z",
     "iopub.status.idle": "2025-05-24T12:46:23.962035Z",
     "shell.execute_reply": "2025-05-24T12:46:23.960851Z"
    },
    "papermill": {
     "duration": 0.028972,
     "end_time": "2025-05-24T12:46:23.963769",
     "exception": false,
     "start_time": "2025-05-24T12:46:23.934797",
     "status": "completed"
    },
    "tags": []
   },
   "outputs": [
    {
     "name": "stdout",
     "output_type": "stream",
     "text": [
      "Sukru Yusuf isimli personel personel listesine eklendi.\n",
      "Sercan isimli personel personel listesine eklendi.\n",
      "Enes isimli personel personel listesine eklendi.\n",
      "Ecesu isimli personel personel listesine eklendi.\n",
      "Emre isimli personel personel listesine eklendi.\n",
      "--- Personel Listesi ---\n",
      "\n",
      "Sukru Yusuf\n",
      "Sercan\n",
      "Enes\n",
      "Ecesu\n",
      "Emre\n",
      "Personel Sayiniz : 5\n",
      "Sukru Yusuf isimli personelin yetenekleri : \n",
      "- Python\n",
      "- Deep Learning\n",
      "- NLP\n"
     ]
    }
   ],
   "source": [
    "calisan1 = calisan('Sukru Yusuf')\n",
    "calisan2 = calisan('Sercan')\n",
    "calisan3 = calisan('Enes')\n",
    "calisan4 = calisan('Ecesu')\n",
    "calisan5 = calisan('Emre')\n",
    "calisan.personel_listesini_goruntule()\n",
    "calisan.personel_sayisini_goruntule()\n",
    "calisan1.yetenek_ekle(\"Python\")\n",
    "calisan2.yetenek_ekle(\"C\")\n",
    "calisan3.yetenek_ekle(\"Machine Learning\")\n",
    "calisan1.yetenek_ekle(\"Deep Learning\")\n",
    "calisan1.yetenek_ekle(\"NLP\")\n",
    "calisan1.yetenekleri_listele()"
   ]
  },
  {
   "cell_type": "markdown",
   "id": "0fec9d58",
   "metadata": {
    "papermill": {
     "duration": 0.018991,
     "end_time": "2025-05-24T12:46:24.002609",
     "exception": false,
     "start_time": "2025-05-24T12:46:23.983618",
     "status": "completed"
    },
    "tags": []
   },
   "source": [
    "Kitap sınıfı\n",
    "\n",
    "kutuphane_katalogu \n",
    "\n",
    "Her bir kitap için\n",
    "\n",
    "baslik     \n",
    "yazar      \n",
    "turler     \n",
    "_kitap_ekle()\n",
    "\n",
    "Metotlar\n",
    "kitap_sayisini_goruntule\n",
    "_kitap_ekle\n",
    "katalogu_goruntule\n",
    "tur_ekle\n",
    "turleri_listele"
   ]
  },
  {
   "cell_type": "code",
   "execution_count": 87,
   "id": "0f9c3d49",
   "metadata": {
    "execution": {
     "iopub.execute_input": "2025-05-24T12:46:24.044908Z",
     "iopub.status.busy": "2025-05-24T12:46:24.043618Z",
     "iopub.status.idle": "2025-05-24T12:46:24.055172Z",
     "shell.execute_reply": "2025-05-24T12:46:24.054077Z"
    },
    "papermill": {
     "duration": 0.033522,
     "end_time": "2025-05-24T12:46:24.057017",
     "exception": false,
     "start_time": "2025-05-24T12:46:24.023495",
     "status": "completed"
    },
    "tags": []
   },
   "outputs": [
    {
     "name": "stdout",
     "output_type": "stream",
     "text": [
      "“Derin Öğrenmeye Giriş” adlı kitap kataloğa eklendi.\n",
      "“Python ile Veri Analizi” adlı kitap kataloğa eklendi.\n",
      "“Yapay Zeka: Modern Bir Yak.” adlı kitap kataloğa eklendi.\n",
      "“Veri Bilimine Adım Adım” adlı kitap kataloğa eklendi.\n",
      "“İstatistiksel Öğrenme” adlı kitap kataloğa eklendi.\n",
      "\n",
      "--- Kütüphane Kataloğu ---\n",
      "\n",
      "Derin Öğrenmeye Giriş — Ian Goodfellow\n",
      "Python ile Veri Analizi — Wes McKinney\n",
      "Yapay Zeka: Modern Bir Yak. — Stuart Russell\n",
      "Veri Bilimine Adım Adım — Joel Grus\n",
      "İstatistiksel Öğrenme — Trevor Hastie\n",
      "Kütüphanedeki toplam kitap sayısı : 5\n",
      "\n",
      "“Derin Öğrenmeye Giriş” kitabının türleri :\n",
      "- Yapay Zeka\n",
      "- Derin Öğrenme\n",
      "\n",
      "“Python ile Veri Analizi” kitabının türleri :\n",
      "- Veri Bilimi\n",
      "- Python\n"
     ]
    }
   ],
   "source": [
    "class Kitap():\n",
    "    # ───── Sınıf Özelliği ─────\n",
    "    kutuphane_katalogu = []          # Tüm kitapların listesi (ortak)\n",
    "\n",
    "    # ───── Kurucu Metot ─────\n",
    "    def __init__(self, baslik, yazar):\n",
    "        self.baslik     = baslik     # Örnek (nesne) özellikleri\n",
    "        self.yazar      = yazar\n",
    "        self.turler     = []         # Bir kitap birden fazla türe ait olabilir\n",
    "        self._kitap_ekle()           # Oluşur oluşmaz kataloğa ekle\n",
    "\n",
    "    # ───── Sınıf Metotları ─────\n",
    "    @classmethod\n",
    "    def kitap_sayisini_goruntule(cls):\n",
    "        print(f\"Kütüphanedeki toplam kitap sayısı : {len(cls.kutuphane_katalogu)}\")\n",
    "\n",
    "    @classmethod\n",
    "    def katalogu_goruntule(cls):\n",
    "        print(\"\\n--- Kütüphane Kataloğu ---\\n\")\n",
    "        for kitap in cls.kutuphane_katalogu:\n",
    "            print(f\"{kitap['Başlık']} — {kitap['Yazar']}\")\n",
    "\n",
    "    # ───── Nesne Metotları ─────\n",
    "    def _kitap_ekle(self):\n",
    "        # Kitap sözlüğü oluşturup sınıf listesini güncelle\n",
    "        kitap_kaydi = {\"Başlık\": self.baslik, \"Yazar\": self.yazar}\n",
    "        self.kutuphane_katalogu.append(kitap_kaydi)\n",
    "        print(f\"“{self.baslik}” adlı kitap kataloğa eklendi.\")\n",
    "\n",
    "    def tur_ekle(self, tur):\n",
    "        self.turler.append(tur)\n",
    "\n",
    "    def turleri_listele(self):\n",
    "        print(f\"\\n“{self.baslik}” kitabının türleri :\")\n",
    "        for tur in self.turler:\n",
    "            print(f\"- {tur}\")\n",
    "\n",
    "\n",
    "# ───── Kitap Nesneleri Oluşturalım ─────\n",
    "kitap1 = Kitap(\"Derin Öğrenmeye Giriş\",       \"Ian Goodfellow\")\n",
    "kitap2 = Kitap(\"Python ile Veri Analizi\",     \"Wes McKinney\")\n",
    "kitap3 = Kitap(\"Yapay Zeka: Modern Bir Yak.\", \"Stuart Russell\")\n",
    "kitap4 = Kitap(\"Veri Bilimine Adım Adım\",     \"Joel Grus\")\n",
    "kitap5 = Kitap(\"İstatistiksel Öğrenme\",       \"Trevor Hastie\")\n",
    "\n",
    "# ───── Kataloğu ve Sayıyı Görelim ─────\n",
    "Kitap.katalogu_goruntule()\n",
    "Kitap.kitap_sayisini_goruntule()\n",
    "\n",
    "# ───── Tür Bilgisi Ekleyelim ─────\n",
    "kitap1.tur_ekle(\"Yapay Zeka\")\n",
    "kitap1.tur_ekle(\"Derin Öğrenme\")\n",
    "kitap3.tur_ekle(\"Yapay Zeka\")\n",
    "kitap2.tur_ekle(\"Veri Bilimi\")\n",
    "kitap2.tur_ekle(\"Python\")\n",
    "\n",
    "# ───── Türleri Listeleyelim ─────\n",
    "kitap1.turleri_listele()\n",
    "kitap2.turleri_listele()\n"
   ]
  },
  {
   "cell_type": "code",
   "execution_count": 88,
   "id": "37c532e1",
   "metadata": {
    "execution": {
     "iopub.execute_input": "2025-05-24T12:46:24.098760Z",
     "iopub.status.busy": "2025-05-24T12:46:24.098365Z",
     "iopub.status.idle": "2025-05-24T12:46:24.106525Z",
     "shell.execute_reply": "2025-05-24T12:46:24.105332Z"
    },
    "papermill": {
     "duration": 0.030936,
     "end_time": "2025-05-24T12:46:24.108164",
     "exception": false,
     "start_time": "2025-05-24T12:46:24.077228",
     "status": "completed"
    },
    "tags": []
   },
   "outputs": [
    {
     "data": {
      "text/plain": [
       "'class Kitap():\\n    # ───── Sınıf Özelliği ─────\\n    kutuphane_katalogu = []          # Tüm kitapların listesi (ortak)\\n\\n    # ───── Kurucu Metot ─────\\n    def __init__(self, baslik, yazar):\\n        self.baslik     = baslik     # Örnek (nesne) özellikleri\\n        self.yazar      = yazar\\n        self.turler     = []         # Bir kitap birden fazla türe ait olabilir\\n        self._kitap_ekle()           # Oluşur oluşmaz kataloğa ekle\\n        self.tur_ekle()\\n\\n    # ───── Sınıf Metotları ─────\\n    @classmethod\\n    def kitap_sayisini_goruntule(cls):\\n        print(f\"Kütüphanedeki toplam kitap sayısı : {len(cls.kutuphane_katalogu)}\")\\n\\n    @classmethod\\n    def katalogu_goruntule(cls):\\n        print(\"\\n--- Kütüphane Kataloğu ---\\n\")\\n        for kitap in cls.kutuphane_katalogu:\\n            print(f\"{kitap[\\'Başlık\\']} — {kitap[\\'Yazar\\']}\")\\n\\n    # ───── Nesne Metotları ─────\\n    def _kitap_ekle(self):\\n        # Kitap sözlüğü oluşturup sınıf listesini güncelle\\n        kitap_kaydi = {\"Başlık\": self.baslik, \"Yazar\": self.yazar}\\n        self.kutuphane_katalogu.append(kitap_kaydi)\\n        print(f\"“{self.baslik}” adlı kitap kataloğa eklendi.\")\\n\\n    def tur_ekle(self):\\n        tur = input(\"Lutfen kitabin giriniz : \")\\n        self.turler.append(tur)\\n\\n    def turleri_listele(self):\\n        print(f\"\\n“{self.baslik}” kitabının türleri :\")\\n        for tur in self.turler:\\n            print(f\"- {tur}\")\\n\\n\\n# ───── Kitap Nesneleri Oluşturalım ─────\\nkitap1 = Kitap(\"Derin Öğrenmeye Giriş\",       \"Ian Goodfellow\")\\nkitap2 = Kitap(\"Python ile Veri Analizi\",     \"Wes McKinney\")\\nkitap3 = Kitap(\"Yapay Zeka: Modern Bir Yak.\", \"Stuart Russell\")\\nkitap4 = Kitap(\"Veri Bilimine Adım Adım\",     \"Joel Grus\")\\nkitap5 = Kitap(\"İstatistiksel Öğrenme\",       \"Trevor Hastie\")\\n\\n# ───── Kataloğu ve Sayıyı Görelim ─────\\nKitap.katalogu_goruntule()\\nKitap.kitap_sayisini_goruntule()\\n\\n\\n# ───── Türleri Listeleyelim ─────\\nkitap1.turleri_listele()\\nkitap2.turleri_listele()\\n'"
      ]
     },
     "execution_count": 88,
     "metadata": {},
     "output_type": "execute_result"
    }
   ],
   "source": [
    "\"\"\"class Kitap():\n",
    "    # ───── Sınıf Özelliği ─────\n",
    "    kutuphane_katalogu = []          # Tüm kitapların listesi (ortak)\n",
    "\n",
    "    # ───── Kurucu Metot ─────\n",
    "    def __init__(self, baslik, yazar):\n",
    "        self.baslik     = baslik     # Örnek (nesne) özellikleri\n",
    "        self.yazar      = yazar\n",
    "        self.turler     = []         # Bir kitap birden fazla türe ait olabilir\n",
    "        self._kitap_ekle()           # Oluşur oluşmaz kataloğa ekle\n",
    "        self.tur_ekle()\n",
    "\n",
    "    # ───── Sınıf Metotları ─────\n",
    "    @classmethod\n",
    "    def kitap_sayisini_goruntule(cls):\n",
    "        print(f\"Kütüphanedeki toplam kitap sayısı : {len(cls.kutuphane_katalogu)}\")\n",
    "\n",
    "    @classmethod\n",
    "    def katalogu_goruntule(cls):\n",
    "        print(\"\\n--- Kütüphane Kataloğu ---\\n\")\n",
    "        for kitap in cls.kutuphane_katalogu:\n",
    "            print(f\"{kitap['Başlık']} — {kitap['Yazar']}\")\n",
    "\n",
    "    # ───── Nesne Metotları ─────\n",
    "    def _kitap_ekle(self):\n",
    "        # Kitap sözlüğü oluşturup sınıf listesini güncelle\n",
    "        kitap_kaydi = {\"Başlık\": self.baslik, \"Yazar\": self.yazar}\n",
    "        self.kutuphane_katalogu.append(kitap_kaydi)\n",
    "        print(f\"“{self.baslik}” adlı kitap kataloğa eklendi.\")\n",
    "\n",
    "    def tur_ekle(self):\n",
    "        tur = input(\"Lutfen kitabin giriniz : \")\n",
    "        self.turler.append(tur)\n",
    "\n",
    "    def turleri_listele(self):\n",
    "        print(f\"\\n“{self.baslik}” kitabının türleri :\")\n",
    "        for tur in self.turler:\n",
    "            print(f\"- {tur}\")\n",
    "\n",
    "\n",
    "# ───── Kitap Nesneleri Oluşturalım ─────\n",
    "kitap1 = Kitap(\"Derin Öğrenmeye Giriş\",       \"Ian Goodfellow\")\n",
    "kitap2 = Kitap(\"Python ile Veri Analizi\",     \"Wes McKinney\")\n",
    "kitap3 = Kitap(\"Yapay Zeka: Modern Bir Yak.\", \"Stuart Russell\")\n",
    "kitap4 = Kitap(\"Veri Bilimine Adım Adım\",     \"Joel Grus\")\n",
    "kitap5 = Kitap(\"İstatistiksel Öğrenme\",       \"Trevor Hastie\")\n",
    "\n",
    "# ───── Kataloğu ve Sayıyı Görelim ─────\n",
    "Kitap.katalogu_goruntule()\n",
    "Kitap.kitap_sayisini_goruntule()\n",
    "\n",
    "\n",
    "# ───── Türleri Listeleyelim ─────\n",
    "kitap1.turleri_listele()\n",
    "kitap2.turleri_listele()\n",
    "\"\"\""
   ]
  },
  {
   "cell_type": "code",
   "execution_count": 89,
   "id": "c8253228",
   "metadata": {
    "execution": {
     "iopub.execute_input": "2025-05-24T12:46:24.149311Z",
     "iopub.status.busy": "2025-05-24T12:46:24.148915Z",
     "iopub.status.idle": "2025-05-24T12:46:24.169112Z",
     "shell.execute_reply": "2025-05-24T12:46:24.168047Z"
    },
    "papermill": {
     "duration": 0.042613,
     "end_time": "2025-05-24T12:46:24.170953",
     "exception": false,
     "start_time": "2025-05-24T12:46:24.128340",
     "status": "completed"
    },
    "tags": []
   },
   "outputs": [
    {
     "name": "stdout",
     "output_type": "stream",
     "text": [
      "Toyota-Corolla-2020 araci listeye eklendi.\n",
      "Renault-Clio-2019 araci listeye eklendi.\n",
      "Ford-Focus-2021 araci listeye eklendi.\n",
      "--- Filodaki Tum Araçlar ---\n",
      "Toyota Corolla 2020 - KM: 0 -Günlük Kira : 350 TL - Durum : Müsait\n",
      "Renault Clio 2019 - KM: 0 -Günlük Kira : 300 TL - Durum : Müsait\n",
      "Ford Focus 2021 - KM: 0 -Günlük Kira : 400 TL - Durum : Müsait\n",
      "--- Filodaki Müsait Araçlar ---\n",
      "Toyota Corolla 2020 - KM: 0 -Günlük Kira : 350 TL - Durum : Müsait\n",
      "Renault Clio 2019 - KM: 0 -Günlük Kira : 300 TL - Durum : Müsait\n",
      "Ford Focus 2021 - KM: 0 -Günlük Kira : 400 TL - Durum : Müsait\n",
      "Toyota Corolla araci su anda kullanimda.\n",
      "\n",
      "Ahmet Yılmaz musterisi Toyota Corolla aracini kiraladi. 5 gunlugune kiraladi. Toplam Ucret : 1750\n",
      "Toyota Corolla araci su anda kullanimda.\n",
      "\n",
      "Elif Demir musterisi Toyota Corolla aracini kiraladi. 3 gunlugune kiraladi. Toplam Ucret : 1050\n",
      "Renault Clio araci su anda kullanimda.\n",
      "\n",
      "Elif Demir musterisi Renault Clio aracini kiraladi. 3 gunlugune kiraladi. Toplam Ucret : 900\n",
      "\n",
      "Müsteri : Ahmet Yılmaz - ahmet@example.com\n",
      "Ahmet Yılmaz müşteri için kiralama geçmişi : \n",
      "Ahmet Yılmaz - Toyota Corolla2025-03-01 to 2025-03-05Ucret : 1750 TL\n",
      "\n",
      "Müsteri : Elif Demir - elif@example.com\n",
      "Elif Demir müşteri için kiralama geçmişi : \n",
      "Elif Demir - Toyota Corolla2025-03-10 to 2025-03-12Ucret : 1050 TL\n",
      "Elif Demir - Renault Clio2025-03-10 to 2025-03-12Ucret : 900 TL\n",
      "--- Tüm Kiralama Kayıtları ---\n",
      "Ahmet Yılmaz - Toyota Corolla2025-03-01 to 2025-03-05Ucret : 1750 TL\n",
      "Elif Demir - Toyota Corolla2025-03-10 to 2025-03-12Ucret : 1050 TL\n",
      "Elif Demir - Renault Clio2025-03-10 to 2025-03-12Ucret : 900 TL\n",
      "--- Filodaki Tum Araçlar ---\n",
      "Toyota Corolla 2020 - KM: 0 -Günlük Kira : 350 TL - Durum : Kirada\n",
      "Renault Clio 2019 - KM: 0 -Günlük Kira : 300 TL - Durum : Kirada\n",
      "Ford Focus 2021 - KM: 0 -Günlük Kira : 400 TL - Durum : Müsait\n",
      "--- Filodaki Müsait Araçlar ---\n",
      "Ford Focus 2021 - KM: 0 -Günlük Kira : 400 TL - Durum : Müsait\n"
     ]
    }
   ],
   "source": [
    "import datetime\n",
    "class Arac:\n",
    "    #Tüm araçların Tutulduğu bir sınıf özelliği\n",
    "    arac_listesi = []\n",
    "\n",
    "    def __init__(self,marka,model,yil,kira_ucreti,km=0):\n",
    "        self.marka = marka\n",
    "        self.model = model\n",
    "        self.yil = yil\n",
    "        self.kira_ucreti = kira_ucreti\n",
    "        self.km = km\n",
    "        self.durum = 'Müsait'\n",
    "        self.ozellikler = []\n",
    "        self.arac_ekle()\n",
    "    \n",
    "    def arac_ekle(self):\n",
    "        Arac.arac_listesi.append(self)\n",
    "        print(f\"{self.marka}-{self.model}-{self.yil} araci listeye eklendi.\")\n",
    "    \n",
    "    def arac_bilgileri(self):\n",
    "        return (f\"{self.marka} {self.model} {self.yil} - KM: {self.km} -\"\n",
    "                f\"Günlük Kira : {self.kira_ucreti} TL - Durum : {self.durum}\")\n",
    "    \n",
    "    def ozellik_ekle(self,ozellik):\n",
    "        self.ozellikler.append(ozellik)\n",
    "    \n",
    "    def ozellikleri_goruntule(self):\n",
    "        print(f\"{self.marka} {self.model} aracinin ozellikleri :\")\n",
    "        if self.ozellikler:\n",
    "            for ozellik in self.ozellikler:\n",
    "                print(f\" - {ozellik}\")\n",
    "        else:\n",
    "            print(\"Arac icin henuz eklenmis bir ozellik bulunmamaktadir.\")\n",
    "    \n",
    "    def arac_durumu_degistir(self,yeni_durum):\n",
    "        self.durum = yeni_durum\n",
    "\n",
    "    @classmethod\n",
    "    def tum_araclari_goster(cls):\n",
    "        print(\"--- Filodaki Tum Araçlar ---\")\n",
    "        for arac in cls.arac_listesi:\n",
    "            print(arac.arac_bilgileri())\n",
    "    \n",
    "    @classmethod\n",
    "    def musait_araclari_goster(cls):\n",
    "        print(\"--- Filodaki Müsait Araçlar ---\")\n",
    "        for arac in cls.arac_listesi:\n",
    "            if arac.durum == \"Müsait\":\n",
    "                print(arac.arac_bilgileri())\n",
    "\n",
    "class Musteri:\n",
    "\n",
    "    #Tüm müşterilerin tutulduğu sınıf özelliği\n",
    "\n",
    "    musteri_listesi = []\n",
    "\n",
    "\n",
    "    def __init__(self,isim,email):\n",
    "        self.isim = isim\n",
    "        self.email = email\n",
    "        self.rental_history = [] #Müşterinin araç kiralama geçmişi\n",
    "        Musteri.musteri_listesi.append(self)\n",
    "    \n",
    "    def musteri_bilgileri(self):\n",
    "        return f\"Müsteri : {self.isim} - {self.email}\"\n",
    "\n",
    "    def kiralama_yap(self,arac,baslangic_tarihi,bitis_tarihi):\n",
    "        #Araç müsait mi kontrol et\n",
    "\n",
    "        if arac.durum != \"Musait\":\n",
    "            print(f\"{arac.marka} {arac.model} araci su anda kullanimda.\")\n",
    "        \n",
    "        #Yeni kiralama Kaydı\n",
    "        kiralama = Kiralama(self,arac,baslangic_tarihi,bitis_tarihi)\n",
    "        self.rental_history.append(kiralama)\n",
    "        return kiralama\n",
    "    \n",
    "    def rental_gecmisi_goster(self):\n",
    "        print(f\"{self.isim} müşteri için kiralama geçmişi : \")\n",
    "        if self.rental_history:\n",
    "            for kiralama in self.rental_history:\n",
    "                print(kiralama.rental_bilgileri())\n",
    "\n",
    "class Kiralama:\n",
    "    #Tüm kiralama kayıtlarının tutulduğu bir sınıf özelliği\n",
    "    kiralama_listesi = []\n",
    "\n",
    "    def __init__(self,musteri,arac,baslangic_tarihi,bitis_tarihi):\n",
    "        self.musteri = musteri\n",
    "        self.arac = arac\n",
    "        self.baslangic_tarihi = baslangic_tarihi\n",
    "        self.bitis_tarihi = bitis_tarihi\n",
    "\n",
    "        #Kiralama Gün sayisi ve Total Kiralama ucreti\n",
    "\n",
    "        self.kiralama_gun_sayisi = (bitis_tarihi - baslangic_tarihi).days + 1\n",
    "        self.toplam_ucret = self.kiralama_gun_sayisi * arac.kira_ucreti\n",
    "\n",
    "        arac.arac_durumu_degistir(\"Kirada\")\n",
    "        Kiralama.kiralama_listesi.append(self)\n",
    "        print(f\"\\n{musteri.isim} musterisi {arac.marka} {arac.model} aracini kiraladi. \"\n",
    "              f\"{self.kiralama_gun_sayisi} gunlugune kiraladi. Toplam Ucret : {self.toplam_ucret}\")\n",
    "    \n",
    "    def rental_bilgileri(self):\n",
    "        return (f\"{self.musteri.isim} - {self.arac.marka} {self.arac.model}\"\n",
    "                f\"{self.baslangic_tarihi.strftime('%Y-%m-%d')} to {self.bitis_tarihi.strftime('%Y-%m-%d')}\"\n",
    "                f\"Ucret : {self.toplam_ucret} TL\")\n",
    "\n",
    "    @classmethod\n",
    "    def tum_kiralama_kayitlari(cls):\n",
    "        print(\"--- Tüm Kiralama Kayıtları ---\")\n",
    "\n",
    "        if cls.kiralama_listesi:\n",
    "            for kayit in cls.kiralama_listesi:\n",
    "                print(kayit.rental_bilgileri())\n",
    "        else:\n",
    "            print(\"Mevcut Kiralama Kaydi Bulunamamiştir.\")\n",
    "\n",
    "# Örnek kullanım\n",
    "if __name__ == \"__main__\":\n",
    "    # Araçları oluştur\n",
    "    arac1 = Arac(\"Toyota\", \"Corolla\", 2020, kira_ucreti=350)\n",
    "    arac1.ozellik_ekle(\"Otomatik Vites\")\n",
    "    arac1.ozellik_ekle(\"ABS\")\n",
    "    \n",
    "    arac2 = Arac(\"Renault\", \"Clio\", 2019, kira_ucreti=300)\n",
    "    arac2.ozellik_ekle(\"Manuel Vites\")\n",
    "    \n",
    "    arac3 = Arac(\"Ford\", \"Focus\", 2021, kira_ucreti=400)\n",
    "    arac3.ozellik_ekle(\"Navigasyon Sistemi\")\n",
    "    arac3.ozellik_ekle(\"Geri Görüş Kamerası\")\n",
    "    \n",
    "    # Tüm araçları ve müsait araçları görüntüle\n",
    "    Arac.tum_araclari_goster()\n",
    "    Arac.musait_araclari_goster()\n",
    "    \n",
    "    # Müşterileri oluştur\n",
    "    musteri1 = Musteri(\"Ahmet Yılmaz\", \"ahmet@example.com\")\n",
    "    musteri2 = Musteri(\"Elif Demir\", \"elif@example.com\")\n",
    "    \n",
    "    # Kiralama işlemleri için tarih aralıkları belirle\n",
    "    baslangic1 = datetime.date(2025, 3, 1)\n",
    "    bitis1 = datetime.date(2025, 3, 5)\n",
    "    \n",
    "    baslangic2 = datetime.date(2025, 3, 10)\n",
    "    bitis2 = datetime.date(2025, 3, 12)\n",
    "    \n",
    "    # Ahmet, arac1'i kiralamaya çalışıyor\n",
    "    kiralama1 = musteri1.kiralama_yap(arac1, baslangic1, bitis1)\n",
    "    \n",
    "    # Elif, aynı aracı kiralamaya çalışırsa hata mesajı alır\n",
    "    kiralama2 = musteri2.kiralama_yap(arac1, baslangic2, bitis2)\n",
    "    \n",
    "    # Elif, müsait bir diğer aracı (arac2) kiralar\n",
    "    kiralama3 = musteri2.kiralama_yap(arac2, baslangic2, bitis2)\n",
    "    \n",
    "    # Müşterilerin bilgilerini ve kiralama geçmişlerini görüntüle\n",
    "    print(\"\\n\" + musteri1.musteri_bilgileri())\n",
    "    musteri1.rental_gecmisi_goster()\n",
    "    \n",
    "    print(\"\\n\" + musteri2.musteri_bilgileri())\n",
    "    musteri2.rental_gecmisi_goster()\n",
    "    \n",
    "    # Tüm kiralama kayıtlarını görüntüle\n",
    "    Kiralama.tum_kiralama_kayitlari()\n",
    "    \n",
    "    # Kiralanmış ve müsait araçların durumunu tekrar kontrol et\n",
    "    Arac.tum_araclari_goster()\n",
    "    Arac.musait_araclari_goster()"
   ]
  }
 ],
 "metadata": {
  "kaggle": {
   "accelerator": "none",
   "dataSources": [],
   "dockerImageVersionId": 31040,
   "isGpuEnabled": false,
   "isInternetEnabled": true,
   "language": "python",
   "sourceType": "notebook"
  },
  "kernelspec": {
   "display_name": "Python 3",
   "language": "python",
   "name": "python3"
  },
  "language_info": {
   "codemirror_mode": {
    "name": "ipython",
    "version": 3
   },
   "file_extension": ".py",
   "mimetype": "text/x-python",
   "name": "python",
   "nbconvert_exporter": "python",
   "pygments_lexer": "ipython3",
   "version": "3.11.11"
  },
  "papermill": {
   "default_parameters": {},
   "duration": 9.985685,
   "end_time": "2025-05-24T12:46:24.713519",
   "environment_variables": {},
   "exception": null,
   "input_path": "__notebook__.ipynb",
   "output_path": "__notebook__.ipynb",
   "parameters": {},
   "start_time": "2025-05-24T12:46:14.727834",
   "version": "2.6.0"
  }
 },
 "nbformat": 4,
 "nbformat_minor": 5
}
