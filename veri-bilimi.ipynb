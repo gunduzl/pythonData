{
 "cells": [
  {
   "cell_type": "code",
   "execution_count": 2,
   "id": "87785833",
   "metadata": {},
   "outputs": [
    {
     "name": "stdout",
     "output_type": "stream",
     "text": [
      "hello world\n"
     ]
    }
   ],
   "source": [
    "print(\"hello world\")"
   ]
  },
  {
   "cell_type": "code",
   "execution_count": 3,
   "id": "cd2cd1a9",
   "metadata": {},
   "outputs": [],
   "source": [
    "import pandas as pd\n",
    "import numpy as np\n",
    "import matplotlib.pyplot as plt\n",
    "import seaborn as sns"
   ]
  },
  {
   "cell_type": "code",
   "execution_count": 4,
   "id": "4fca1940",
   "metadata": {},
   "outputs": [
    {
     "data": {
      "text/plain": [
       "' \\n Veri Biliminin Temel Adımları:\\n\\n- Veri toplama : doğru şekilde verilerin toplaması\\n- Veri temizleme : aykırı değerlerin temizlenmesi, hataların-boşların temizlenmesi\\n- Veri Keşif ve Görselleştirme : keşifsel analizler ve görselleştirme teknikleri kullanılır. Bu adım, verinin özelliklerini anlamaya, olası sorunları tespit etmeye ve hangi analiz yöntemlerinin uygun olacağına karar vermeye yardımcı olur\\n- Veri Modelleme : hangi yapay zeka aracı kullanılacak tahminleme, sınfılama. Desenler patternler ortaya çıkarılır\\n- Model Değerlendirme : Modeli test et, modelin %80 modelin train edilmesi %20 test edilmesi\\n- Sonuçların sunumu ve yorumlanması  \\n'"
      ]
     },
     "execution_count": 4,
     "metadata": {},
     "output_type": "execute_result"
    }
   ],
   "source": [
    "\"\"\" \n",
    " Veri Biliminin Temel Adımları:\n",
    "\n",
    "- Veri toplama : doğru şekilde verilerin toplaması\n",
    "- Veri temizleme : aykırı değerlerin temizlenmesi, hataların-boşların temizlenmesi\n",
    "- Veri Keşif ve Görselleştirme : keşifsel analizler ve görselleştirme teknikleri kullanılır. Bu adım, verinin özelliklerini anlamaya, olası sorunları tespit etmeye ve hangi analiz yöntemlerinin uygun olacağına karar vermeye yardımcı olur\n",
    "- Veri Modelleme : hangi yapay zeka aracı kullanılacak tahminleme, sınfılama. Desenler patternler ortaya çıkarılır\n",
    "- Model Değerlendirme : Modeli test et, modelin %80 modelin train edilmesi %20 test edilmesi\n",
    "- Sonuçların sunumu ve yorumlanması  \n",
    "\"\"\""
   ]
  },
  {
   "cell_type": "code",
   "execution_count": 5,
   "id": "9cde9c19",
   "metadata": {},
   "outputs": [
    {
     "data": {
      "text/plain": [
       "array([[1, 2, 3],\n",
       "       [4, 5, 6],\n",
       "       [7, 8, 9]])"
      ]
     },
     "execution_count": 5,
     "metadata": {},
     "output_type": "execute_result"
    }
   ],
   "source": [
    "liste_2d = [[1,2,3],[4,5,6],[7,8,9]]\n",
    "nump_array_2d = np.array(liste_2d)\n",
    "nump_array_2d"
   ]
  },
  {
   "cell_type": "code",
   "execution_count": 6,
   "id": "4957fd27",
   "metadata": {},
   "outputs": [
    {
     "data": {
      "text/plain": [
       "array([[1., 1.],\n",
       "       [1., 1.],\n",
       "       [1., 1.]])"
      ]
     },
     "execution_count": 6,
     "metadata": {},
     "output_type": "execute_result"
    }
   ],
   "source": [
    "zeros_array = np.zeros((5,6))\n",
    "ones_array = np.ones((3,2))\n",
    "zeros_array\n",
    "ones_array"
   ]
  },
  {
   "cell_type": "code",
   "execution_count": 7,
   "id": "602969b5",
   "metadata": {},
   "outputs": [
    {
     "data": {
      "text/plain": [
       "array([ 1,  2,  3,  4,  5,  6,  7,  8,  9, 10])"
      ]
     },
     "execution_count": 7,
     "metadata": {},
     "output_type": "execute_result"
    }
   ],
   "source": [
    "range_array = np.arange(1,11)\n",
    "range_array"
   ]
  },
  {
   "cell_type": "code",
   "execution_count": 8,
   "id": "0db6dce8",
   "metadata": {},
   "outputs": [
    {
     "data": {
      "text/plain": [
       "dtype('float64')"
      ]
     },
     "execution_count": 8,
     "metadata": {},
     "output_type": "execute_result"
    }
   ],
   "source": [
    "zeros_array.shape # (5,6) = (row,column)\n",
    "zeros_array.ndim # 2  = (n dimension)\n",
    "zeros_array.size # 30  = how many item\n",
    "zeros_array.dtype # float64 = type of data in matrix"
   ]
  },
  {
   "cell_type": "code",
   "execution_count": 9,
   "id": "2ae950eb",
   "metadata": {},
   "outputs": [
    {
     "name": "stdout",
     "output_type": "stream",
     "text": [
      "0.0\n",
      "------------\n",
      "[[0. 0. 0. 0. 0. 0.]\n",
      " [0. 0. 0. 0. 0. 0.]\n",
      " [0. 0. 0. 0. 0. 0.]]\n",
      "------------\n",
      "[[0. 0. 0. 0. 0. 0.]\n",
      " [0. 0. 0. 0. 0. 0.]\n",
      " [0. 0. 0. 0. 0. 0.]]\n",
      "------------\n",
      "[[0. 0. 0. 0. 0. 0.]\n",
      " [0. 0. 0. 0. 0. 0.]]\n"
     ]
    }
   ],
   "source": [
    "print(zeros_array[0][2]) # matrixin 0. satırının 2. sütünüdaki değer \n",
    "print(\"------------\")\n",
    "\n",
    "print(zeros_array[0:3])\n",
    "print(\"------------\")\n",
    "\n",
    "print(zeros_array[:3])\n",
    "print(\"------------\")\n",
    "print(zeros_array[3:])"
   ]
  },
  {
   "cell_type": "code",
   "execution_count": 10,
   "id": "7dd325b9",
   "metadata": {},
   "outputs": [
    {
     "data": {
      "text/plain": [
       "array([[1, 2, 3],\n",
       "       [4, 5, 6],\n",
       "       [7, 8, 9]])"
      ]
     },
     "execution_count": 10,
     "metadata": {},
     "output_type": "execute_result"
    }
   ],
   "source": [
    "nump_array_2d\n"
   ]
  },
  {
   "cell_type": "code",
   "execution_count": 11,
   "id": "319d3c47",
   "metadata": {},
   "outputs": [
    {
     "name": "stdout",
     "output_type": "stream",
     "text": [
      "[[4 5]\n",
      " [7 8]]\n",
      "--------------\n"
     ]
    }
   ],
   "source": [
    "print(nump_array_2d[1:3, 0:2]) # 1 nci satırdan 3 ncü satıra kadar(dahil) KESİŞİM 0 ncı sütündan 2 nci sütuna kadar(dahil)\n",
    "print(\"--------------\")"
   ]
  },
  {
   "cell_type": "code",
   "execution_count": 12,
   "id": "1f645ede",
   "metadata": {},
   "outputs": [
    {
     "name": "stdout",
     "output_type": "stream",
     "text": [
      "[[2 3]\n",
      " [5 6]\n",
      " [8 9]]\n"
     ]
    }
   ],
   "source": [
    "print(nump_array_2d[:,1:])"
   ]
  },
  {
   "cell_type": "code",
   "execution_count": null,
   "id": "383ad0e4",
   "metadata": {},
   "outputs": [
    {
     "name": "stdout",
     "output_type": "stream",
     "text": [
      "[[54 95 13 66 10]\n",
      " [82 37 25 24 67]\n",
      " [62  2 28 11 10]]\n"
     ]
    }
   ],
   "source": [
    "from numpy import random\n",
    "rand_array = random.randint(100, size=(3, 5)) # 0-100 arasında random sayılarla 3X5 lik bir matriks oluşturma\n",
    "print(rand_array)"
   ]
  },
  {
   "cell_type": "code",
   "execution_count": 14,
   "id": "25a36adf",
   "metadata": {},
   "outputs": [
    {
     "name": "stdout",
     "output_type": "stream",
     "text": [
      "[5 7 9]\n",
      "[-3 -3 -3]\n",
      "[ 4 10 18]\n",
      "[0.25 0.4  0.5 ]\n",
      "[1 4 9]\n",
      "15\n",
      "3.0\n",
      "3.0\n",
      "1.4142135623730951\n",
      "5\n",
      "1\n"
     ]
    }
   ],
   "source": [
    "array1 = np.array([1, 2, 3])\n",
    "array2 = np.array([4, 5, 6])\n",
    "\n",
    "print(array1 + array2)     # addition\n",
    "print(array1 - array2)     # subtraction\n",
    "print(array1 * array2)     # multiplication\n",
    "print(array1 / array2)     # division\n",
    "print(array1 ** 2)         # exponentiation\n",
    "\n",
    "\n",
    "array = np.array([1, 2, 3, 4, 5])\n",
    "print(np.sum(array))     # total\n",
    "print(np.mean(array))     # mean\n",
    "print(np.median(array))   # median\n",
    "print(np.std(array))     # standard deviation\n",
    "print(np.max(array))\n",
    "print(np.min(array))"
   ]
  },
  {
   "cell_type": "code",
   "execution_count": null,
   "id": "995ce8ac",
   "metadata": {},
   "outputs": [
    {
     "data": {
      "text/plain": [
       "array([[22, 28],\n",
       "       [49, 64]])"
      ]
     },
     "execution_count": 17,
     "metadata": {},
     "output_type": "execute_result"
    }
   ],
   "source": [
    "ar1 = np.array([[1,2,3],[4,5,6]])  # 2X3 ; 2 satır, 3 sütun\n",
    "\n",
    "ar2 = np.array([[1,2],[3,4],[5,6]])  #3X2 ; 3 satır, 2 sütun\n",
    "\n",
    "result = np.dot(ar1,ar2) # matriks çarpımı yapabilme koşulu : iki matriks çarpılabilmesi için ilkinin sütun sayısı eşit olmalı 2nci matrisin satır sayısına\n",
    "\n",
    "result \n",
    "\"\"\"\n",
    "array([[22, 28],\n",
    "       [49, 64]])\n",
    "\"\"\"\n",
    " # yeni oluşan matriksin boyutu 1 ncisinin satır sayısı, 2 ncisinin sütun sayısı kadar olmalı"
   ]
  },
  {
   "cell_type": "code",
   "execution_count": null,
   "id": "e7ce300e",
   "metadata": {},
   "outputs": [],
   "source": []
  }
 ],
 "metadata": {
  "kernelspec": {
   "display_name": "Python 3",
   "language": "python",
   "name": "python3"
  },
  "language_info": {
   "codemirror_mode": {
    "name": "ipython",
    "version": 3
   },
   "file_extension": ".py",
   "mimetype": "text/x-python",
   "name": "python",
   "nbconvert_exporter": "python",
   "pygments_lexer": "ipython3",
   "version": "3.13.3"
  }
 },
 "nbformat": 4,
 "nbformat_minor": 5
}
